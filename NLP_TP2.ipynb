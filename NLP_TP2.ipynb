{
  "nbformat": 4,
  "nbformat_minor": 0,
  "metadata": {
    "colab": {
      "provenance": [],
      "mount_file_id": "1-kUQlXQ6Rkl-MTlap5NVMM60oM5-7xmo",
      "authorship_tag": "ABX9TyPsGRr7K9QUmYLO+a5Jfh2x"
    },
    "kernelspec": {
      "name": "python3",
      "display_name": "Python 3"
    },
    "language_info": {
      "name": "python"
    }
  },
  "cells": [
    {
      "cell_type": "markdown",
      "source": [
        "# **Trabajo Práctico Final NLP**\n",
        "\n"
      ],
      "metadata": {
        "id": "F68ch-xN5QS2"
      }
    },
    {
      "cell_type": "markdown",
      "source": [
        "## **Ejercicio 1 - RAG**\n",
        "**Crear un chatbot experto en un tema a elección, usando la técnica RAG. Como fuentes de conocimiento se utilizarán al menos las siguientes fuentes:**\n",
        "\n",
        "* **Documentos de texto**\n",
        "*  **Datos numéricos en formato tabular (por ej., Dataframes, CSV, sqlite, etc.)**\n",
        "*  **Base de datos de grafos (Online o local)**\n",
        "\n",
        "\n",
        "`Elijo que el chatbot se especialice en historia de la Segunda Guerra Mundial`"
      ],
      "metadata": {
        "id": "uu319V3d5xxB"
      }
    },
    {
      "cell_type": "markdown",
      "source": [
        "### **Set de datos**\n",
        "\n",
        "**`Documentos de textos`**\n",
        "\n",
        "[**Segunda Guerra Mundial - Wikipedia**](https://es.wikipedia.org/wiki/Segunda_Guerra_Mundial)\n",
        "\n",
        "[**Breve Historia de la Segunda Guerra Mundial - Jesús Hernández**](https://sgfm.elcorteingles.es/SGFM/dctm/MEDIA02/CONTENIDOS/201503/17/00106518013690____4_.pdf)\n",
        "\n",
        "[**LA SEGUNDA GUERRA MUNDIAL (1939-1945) - profesoremilio**](https://profesoremilio.files.wordpress.com/2018/09/tema-8-la-segunda-guerra-mundial.pdf)\n",
        "\n",
        "[**LA SEGUNDA GUERRA MUNDIAL (1939-1945) - IES Fray Pedro de Urbina – Departamento de Geografía e Historia**](https://www.iesfraypedro.com/files/sociales/segunda-guerra-mundial-1b.pdf)\n",
        "\n",
        "[**La II Guerra Mundial - Sabuco**](https://www.sabuco.com/historia/IIGMb.pdf)\n",
        "\n",
        "**`Datos tabulares`**\n",
        "\n",
        "[**WW2 - Kaggle**](https://www.kaggle.com/datasets/ramjasmaurya/world-war-2-archive?select=events.csv)\n",
        "\n",
        "\n",
        "---\n",
        "\n",
        "Nota: de los archivos tabulares de Kaggle solo utilizo el que corresponde a los eventos. El mismo fue traducido al español para mejorar la compresión de las solicitudes."
      ],
      "metadata": {
        "id": "WhNrGFAx5cu4"
      }
    },
    {
      "cell_type": "markdown",
      "source": [
        "### **Carga de datos**"
      ],
      "metadata": {
        "id": "JhQFggRt-PT9"
      }
    },
    {
      "cell_type": "code",
      "source": [
        "!pip install wikipedia-api\n",
        "!pip install pdfminer.six\n",
        "!pip install es_core_news_sm\n",
        "!pip install gdown\n",
        "!pip install llama_index==0.10.0 sentence-transformers pypdf langchain python-decouple\n",
        "!pip install langchain_community\n",
        "!pip install pydantic==1.10.8\n",
        "!pip install typing_extensions==4.4.0\n",
        "!pip install chromadb"
      ],
      "metadata": {
        "id": "2xq54539D0to"
      },
      "execution_count": null,
      "outputs": []
    },
    {
      "cell_type": "code",
      "source": [
        "import pandas as pd\n",
        "import re\n",
        "import wikipediaapi\n",
        "from pdfminer.high_level import extract_text\n",
        "import spacy\n",
        "from spacy.tokens import Doc\n",
        "\n",
        "import gdown\n",
        "import os\n",
        "import shutil\n",
        "import requests\n",
        "import chromadb\n",
        "import networkx as nx\n",
        "import matplotlib.pyplot as plt"
      ],
      "metadata": {
        "id": "cKhMRGnl-cjO"
      },
      "execution_count": 14,
      "outputs": []
    },
    {
      "cell_type": "code",
      "source": [
        "from sentence_transformers import SentenceTransformer\n",
        "from langchain.embeddings.huggingface import HuggingFaceEmbeddings\n",
        "from langchain.text_splitter import CharacterTextSplitter\n",
        "from llama_index.legacy.embeddings import LangchainEmbedding, OpenAIEmbedding\n",
        "from llama_index.legacy import ServiceContext, VectorStoreIndex, SimpleDirectoryReader, KnowledgeGraphIndex\n",
        "from llama_index.legacy.storage.storage_context import StorageContext\n",
        "from llama_index.legacy.text_splitter import SentenceSplitter\n",
        "from llama_index.legacy.graph_stores import SimpleGraphStore\n",
        "from llama_index.legacy.vector_stores import ChromaVectorStore\n",
        "\n",
        "from jinja2 import Template\n",
        "from decouple import config\n"
      ],
      "metadata": {
        "id": "ydnM6X57ww5H"
      },
      "execution_count": null,
      "outputs": []
    },
    {
      "cell_type": "code",
      "source": [
        "# FUNCIÓN PARA EXTRAER TEXTO\n",
        "\n",
        "def extraer_texto_pdf (pdf, pagina_inicio=None, pagina_final=None):\n",
        "  \"\"\"\n",
        "   Función para extraer texto de un documento PDF.\n",
        "\n",
        "  Parámetros:\n",
        "  - pdf: Ruta del archivo PDF.\n",
        "  - pagina_inicio: Página de inicio para la extracción (opcional).\n",
        "  - pagina_final: Página final para la extracción (opcional).\n",
        "\n",
        "  Retorna el texto extraído.\n",
        "  \"\"\"\n",
        "  # Verificar si se especifican páginas de inicio y fin\n",
        "  if pagina_inicio is not None and pagina_final is not None:\n",
        "    # Extraer desde la página de inicio hasta la página de fin\n",
        "    texto = extract_text(pdf, page_numbers=range(pagina_inicio, pagina_final))\n",
        "  else:\n",
        "    # Extraer todo el texto del PDF\n",
        "    texto = extract_text(pdf)\n",
        "  return texto"
      ],
      "metadata": {
        "id": "l2XcaJNgh1mG"
      },
      "execution_count": 11,
      "outputs": []
    },
    {
      "cell_type": "code",
      "source": [
        "#TEXTO WIKIPEDIA\n",
        "\n",
        "# Configuración de idioma de Wikipedia ('es')\n",
        "wiki_wiki = wikipediaapi.Wikipedia(language='es', user_agent=\"MiAplicacion/1.0\")\n",
        "\n",
        "# Obtener la página\n",
        "archivo_wiki = wiki_wiki.page(\"Segunda_Guerra_Mundial\")\n",
        "\n",
        "archivo = archivo_wiki.text[:-4464]\n",
        "\n",
        "# Eliminar corchetes (referencias)\n",
        "archivo = re.sub(r'\\[[^\\]]*\\]', '', archivo)"
      ],
      "metadata": {
        "id": "-WuW337HUsAW"
      },
      "execution_count": 12,
      "outputs": []
    },
    {
      "cell_type": "code",
      "source": [
        "# Link con archivos sobre historia de la Segunda Guera Mundial\n",
        "url = 'https://drive.google.com/drive/folders/1E98wUJ9iKygWe5jLiZIHtPJ_PPaFoaKH?usp=sharing'\n",
        "\n",
        "# Descarga carpeta 'Data'\n",
        "gdown.download_folder(url, quiet=True, output='Historia_SGM')\n",
        "\n",
        "# Crear la carpeta 'llamaindex_data' si no existe\n",
        "carpeta_destino = 'llamaindex_data'\n",
        "if not os.path.exists(carpeta_destino):\n",
        "  os.makedirs(carpeta_destino)\n",
        "\n",
        "# Mover todos los archivos de 'Historia_SGM' a 'llamaindex_data'\n",
        "carpeta_origen = 'Historia_SGM'\n",
        "for filename in os.listdir(carpeta_origen):\n",
        "  ruta_origen = os.path.join(carpeta_origen, filename)\n",
        "  ruta_destino = os.path.join(carpeta_destino, filename)\n",
        "  shutil.move(ruta_origen, ruta_destino)\n",
        "\n",
        "# Eliminar la carpeta 'Historia_SGM'\n",
        "shutil.rmtree(carpeta_origen)"
      ],
      "metadata": {
        "id": "_EyjkWHUDCfl"
      },
      "execution_count": null,
      "outputs": []
    },
    {
      "cell_type": "code",
      "source": [
        "# Llamar a la función para extraer texto\n",
        "texto_1 = extraer_texto_pdf('/content/llamaindex_data/segunda_guerra_mundial_pdf.pdf', 16,50) # TEXTO - Jesús Hernandz\n",
        "\n",
        "texto_2 = extraer_texto_pdf('/content/llamaindex_data/tema-8-la-segunda-guerra-mundial.pdf') # TEXTO - profesoremilio\n",
        "\n",
        "texto_3 = extraer_texto_pdf('/content/llamaindex_data/segunda-guerra-mundial-1b.pdf') # TEXTO - IES Fray Pedro de Urbina\n",
        "\n",
        "texto_4 = extraer_texto_pdf('/content/llamaindex_data/IIGMb.pdf') # TEXTO - Sabuco\n",
        "\n",
        "texto_5 = archivo # TEXTO - Wikipedia\n",
        "\n",
        "# Limpieza de texto\n",
        "texto_1 = re.sub(r'.*'+re.escape('BH SEGUNDA GUERRA REV')+r'.*\\n', '', texto_1)\n",
        "texto_1 = re.sub(r'\\n\\d+\\n', '', texto_1)\n",
        "texto_1 = re.sub(r'\\bREVE HISTORIA DE LA SEGUNDA GUERRA MUNDIAL\\b', '', texto_1)\n",
        "texto_1 = re.sub(r'\\bB\\b', '', texto_1)\n",
        "texto_1 = re.sub(r'\\bESÚS HERNÁNDEZ\\b', '', texto_1)\n",
        "texto_1 = re.sub(r'\\n+\\s*\\n+', '\\n', texto_1)\n",
        "texto_1 = re.sub(r'(\\w+)-\\s*\\n\\s*(\\w+)', r'\\1\\2', texto_1)\n",
        "texto_1 = re.sub(r'\\bJ\\b', '', texto_1.strip())\n",
        "\n",
        "texto_2 = re.sub(r'Tema 8. LA SEGUNDA GUERRA MUNDIAL', '', texto_2)\n",
        "texto_2 = texto_2.replace(' (1939-1945)','')\n",
        "texto_2 = re.sub(r'\\n\\d+\\n?', '', texto_2.strip())\n",
        "\n",
        "texto_3 = re.sub(r'IES Fray Pedro de Urbina – Departamento de Geografía e Historia', '', texto_3)\n",
        "texto_3 = texto_3.replace('LA SEGUNDA GUERRA MUNDIAL (1939-1945)', '')\n",
        "texto_3 = re.sub(r'\\n+\\s*\\n+', '\\n', texto_3.strip())\n",
        "\n",
        "texto_4 = re.sub(r'\\n+\\s*\\n+', '\\n', texto_4)\n",
        "texto_4 = re.sub(r'Página \\| \\d+', '', texto_4.strip())\n",
        "\n",
        "# Concateno todos los documentos\n",
        "documentos = [texto_1,texto_2,texto_3,texto_4,texto_5]\n",
        "doc_final = ''\n",
        "for documento in documentos:\n",
        "  doc_final += documento"
      ],
      "metadata": {
        "id": "H0qkp74GaBKQ"
      },
      "execution_count": 17,
      "outputs": []
    },
    {
      "cell_type": "markdown",
      "source": [
        "### **Datos tabulares**"
      ],
      "metadata": {
        "id": "IPJ1VHyY-zXA"
      }
    },
    {
      "cell_type": "code",
      "source": [
        "# Cargo los datos tabulares\n",
        "archivo_tabular = pd.read_csv('/content/llamaindex_data/eventos.txt')\n",
        "archivo_tabular = archivo_tabular.drop('Id', axis=1)\n",
        "# Elimino duplicados en la coumna 'Evento'\n",
        "archivo_tabular = archivo_tabular.drop_duplicates('Evento')"
      ],
      "metadata": {
        "id": "cyEGFsyw_O-A"
      },
      "execution_count": 19,
      "outputs": []
    },
    {
      "cell_type": "code",
      "source": [
        "# Guardar el archivo CSV\n",
        "carpeta_csv = 'SGM_csv/'\n",
        "\n",
        "if not os.path.exists(carpeta_csv):\n",
        "    os.makedirs(carpeta_csv)\n",
        "archivo_tabular.to_csv(carpeta_csv + 'archivo.csv', index=False)"
      ],
      "metadata": {
        "id": "IL89SyOP5gWT"
      },
      "execution_count": 20,
      "outputs": []
    },
    {
      "cell_type": "code",
      "source": [
        "archivo_tabular.head(3)"
      ],
      "metadata": {
        "colab": {
          "base_uri": "https://localhost:8080/",
          "height": 143
        },
        "id": "G4tGsNIXAX93",
        "outputId": "ac97bbea-f0f3-4a54-fd36-21331b323eab"
      },
      "execution_count": null,
      "outputs": [
        {
          "output_type": "execute_result",
          "data": {
            "text/plain": [
              "               Evento        Fecha\n",
              "0  Tratado de Rapallo  16 Abr 1922\n",
              "1   Tratado de Berlín  24 Abr 1926\n",
              "2  Incidente de Jinan   3 May 1928"
            ],
            "text/html": [
              "\n",
              "  <div id=\"df-d300fb3b-e2f2-4540-9d12-57d51a6b9de5\" class=\"colab-df-container\">\n",
              "    <div>\n",
              "<style scoped>\n",
              "    .dataframe tbody tr th:only-of-type {\n",
              "        vertical-align: middle;\n",
              "    }\n",
              "\n",
              "    .dataframe tbody tr th {\n",
              "        vertical-align: top;\n",
              "    }\n",
              "\n",
              "    .dataframe thead th {\n",
              "        text-align: right;\n",
              "    }\n",
              "</style>\n",
              "<table border=\"1\" class=\"dataframe\">\n",
              "  <thead>\n",
              "    <tr style=\"text-align: right;\">\n",
              "      <th></th>\n",
              "      <th>Evento</th>\n",
              "      <th>Fecha</th>\n",
              "    </tr>\n",
              "  </thead>\n",
              "  <tbody>\n",
              "    <tr>\n",
              "      <th>0</th>\n",
              "      <td>Tratado de Rapallo</td>\n",
              "      <td>16 Abr 1922</td>\n",
              "    </tr>\n",
              "    <tr>\n",
              "      <th>1</th>\n",
              "      <td>Tratado de Berlín</td>\n",
              "      <td>24 Abr 1926</td>\n",
              "    </tr>\n",
              "    <tr>\n",
              "      <th>2</th>\n",
              "      <td>Incidente de Jinan</td>\n",
              "      <td>3 May 1928</td>\n",
              "    </tr>\n",
              "  </tbody>\n",
              "</table>\n",
              "</div>\n",
              "    <div class=\"colab-df-buttons\">\n",
              "\n",
              "  <div class=\"colab-df-container\">\n",
              "    <button class=\"colab-df-convert\" onclick=\"convertToInteractive('df-d300fb3b-e2f2-4540-9d12-57d51a6b9de5')\"\n",
              "            title=\"Convert this dataframe to an interactive table.\"\n",
              "            style=\"display:none;\">\n",
              "\n",
              "  <svg xmlns=\"http://www.w3.org/2000/svg\" height=\"24px\" viewBox=\"0 -960 960 960\">\n",
              "    <path d=\"M120-120v-720h720v720H120Zm60-500h600v-160H180v160Zm220 220h160v-160H400v160Zm0 220h160v-160H400v160ZM180-400h160v-160H180v160Zm440 0h160v-160H620v160ZM180-180h160v-160H180v160Zm440 0h160v-160H620v160Z\"/>\n",
              "  </svg>\n",
              "    </button>\n",
              "\n",
              "  <style>\n",
              "    .colab-df-container {\n",
              "      display:flex;\n",
              "      gap: 12px;\n",
              "    }\n",
              "\n",
              "    .colab-df-convert {\n",
              "      background-color: #E8F0FE;\n",
              "      border: none;\n",
              "      border-radius: 50%;\n",
              "      cursor: pointer;\n",
              "      display: none;\n",
              "      fill: #1967D2;\n",
              "      height: 32px;\n",
              "      padding: 0 0 0 0;\n",
              "      width: 32px;\n",
              "    }\n",
              "\n",
              "    .colab-df-convert:hover {\n",
              "      background-color: #E2EBFA;\n",
              "      box-shadow: 0px 1px 2px rgba(60, 64, 67, 0.3), 0px 1px 3px 1px rgba(60, 64, 67, 0.15);\n",
              "      fill: #174EA6;\n",
              "    }\n",
              "\n",
              "    .colab-df-buttons div {\n",
              "      margin-bottom: 4px;\n",
              "    }\n",
              "\n",
              "    [theme=dark] .colab-df-convert {\n",
              "      background-color: #3B4455;\n",
              "      fill: #D2E3FC;\n",
              "    }\n",
              "\n",
              "    [theme=dark] .colab-df-convert:hover {\n",
              "      background-color: #434B5C;\n",
              "      box-shadow: 0px 1px 3px 1px rgba(0, 0, 0, 0.15);\n",
              "      filter: drop-shadow(0px 1px 2px rgba(0, 0, 0, 0.3));\n",
              "      fill: #FFFFFF;\n",
              "    }\n",
              "  </style>\n",
              "\n",
              "    <script>\n",
              "      const buttonEl =\n",
              "        document.querySelector('#df-d300fb3b-e2f2-4540-9d12-57d51a6b9de5 button.colab-df-convert');\n",
              "      buttonEl.style.display =\n",
              "        google.colab.kernel.accessAllowed ? 'block' : 'none';\n",
              "\n",
              "      async function convertToInteractive(key) {\n",
              "        const element = document.querySelector('#df-d300fb3b-e2f2-4540-9d12-57d51a6b9de5');\n",
              "        const dataTable =\n",
              "          await google.colab.kernel.invokeFunction('convertToInteractive',\n",
              "                                                    [key], {});\n",
              "        if (!dataTable) return;\n",
              "\n",
              "        const docLinkHtml = 'Like what you see? Visit the ' +\n",
              "          '<a target=\"_blank\" href=https://colab.research.google.com/notebooks/data_table.ipynb>data table notebook</a>'\n",
              "          + ' to learn more about interactive tables.';\n",
              "        element.innerHTML = '';\n",
              "        dataTable['output_type'] = 'display_data';\n",
              "        await google.colab.output.renderOutput(dataTable, element);\n",
              "        const docLink = document.createElement('div');\n",
              "        docLink.innerHTML = docLinkHtml;\n",
              "        element.appendChild(docLink);\n",
              "      }\n",
              "    </script>\n",
              "  </div>\n",
              "\n",
              "\n",
              "<div id=\"df-9cbeeee3-e742-4820-8c50-e37a2f311c3a\">\n",
              "  <button class=\"colab-df-quickchart\" onclick=\"quickchart('df-9cbeeee3-e742-4820-8c50-e37a2f311c3a')\"\n",
              "            title=\"Suggest charts\"\n",
              "            style=\"display:none;\">\n",
              "\n",
              "<svg xmlns=\"http://www.w3.org/2000/svg\" height=\"24px\"viewBox=\"0 0 24 24\"\n",
              "     width=\"24px\">\n",
              "    <g>\n",
              "        <path d=\"M19 3H5c-1.1 0-2 .9-2 2v14c0 1.1.9 2 2 2h14c1.1 0 2-.9 2-2V5c0-1.1-.9-2-2-2zM9 17H7v-7h2v7zm4 0h-2V7h2v10zm4 0h-2v-4h2v4z\"/>\n",
              "    </g>\n",
              "</svg>\n",
              "  </button>\n",
              "\n",
              "<style>\n",
              "  .colab-df-quickchart {\n",
              "      --bg-color: #E8F0FE;\n",
              "      --fill-color: #1967D2;\n",
              "      --hover-bg-color: #E2EBFA;\n",
              "      --hover-fill-color: #174EA6;\n",
              "      --disabled-fill-color: #AAA;\n",
              "      --disabled-bg-color: #DDD;\n",
              "  }\n",
              "\n",
              "  [theme=dark] .colab-df-quickchart {\n",
              "      --bg-color: #3B4455;\n",
              "      --fill-color: #D2E3FC;\n",
              "      --hover-bg-color: #434B5C;\n",
              "      --hover-fill-color: #FFFFFF;\n",
              "      --disabled-bg-color: #3B4455;\n",
              "      --disabled-fill-color: #666;\n",
              "  }\n",
              "\n",
              "  .colab-df-quickchart {\n",
              "    background-color: var(--bg-color);\n",
              "    border: none;\n",
              "    border-radius: 50%;\n",
              "    cursor: pointer;\n",
              "    display: none;\n",
              "    fill: var(--fill-color);\n",
              "    height: 32px;\n",
              "    padding: 0;\n",
              "    width: 32px;\n",
              "  }\n",
              "\n",
              "  .colab-df-quickchart:hover {\n",
              "    background-color: var(--hover-bg-color);\n",
              "    box-shadow: 0 1px 2px rgba(60, 64, 67, 0.3), 0 1px 3px 1px rgba(60, 64, 67, 0.15);\n",
              "    fill: var(--button-hover-fill-color);\n",
              "  }\n",
              "\n",
              "  .colab-df-quickchart-complete:disabled,\n",
              "  .colab-df-quickchart-complete:disabled:hover {\n",
              "    background-color: var(--disabled-bg-color);\n",
              "    fill: var(--disabled-fill-color);\n",
              "    box-shadow: none;\n",
              "  }\n",
              "\n",
              "  .colab-df-spinner {\n",
              "    border: 2px solid var(--fill-color);\n",
              "    border-color: transparent;\n",
              "    border-bottom-color: var(--fill-color);\n",
              "    animation:\n",
              "      spin 1s steps(1) infinite;\n",
              "  }\n",
              "\n",
              "  @keyframes spin {\n",
              "    0% {\n",
              "      border-color: transparent;\n",
              "      border-bottom-color: var(--fill-color);\n",
              "      border-left-color: var(--fill-color);\n",
              "    }\n",
              "    20% {\n",
              "      border-color: transparent;\n",
              "      border-left-color: var(--fill-color);\n",
              "      border-top-color: var(--fill-color);\n",
              "    }\n",
              "    30% {\n",
              "      border-color: transparent;\n",
              "      border-left-color: var(--fill-color);\n",
              "      border-top-color: var(--fill-color);\n",
              "      border-right-color: var(--fill-color);\n",
              "    }\n",
              "    40% {\n",
              "      border-color: transparent;\n",
              "      border-right-color: var(--fill-color);\n",
              "      border-top-color: var(--fill-color);\n",
              "    }\n",
              "    60% {\n",
              "      border-color: transparent;\n",
              "      border-right-color: var(--fill-color);\n",
              "    }\n",
              "    80% {\n",
              "      border-color: transparent;\n",
              "      border-right-color: var(--fill-color);\n",
              "      border-bottom-color: var(--fill-color);\n",
              "    }\n",
              "    90% {\n",
              "      border-color: transparent;\n",
              "      border-bottom-color: var(--fill-color);\n",
              "    }\n",
              "  }\n",
              "</style>\n",
              "\n",
              "  <script>\n",
              "    async function quickchart(key) {\n",
              "      const quickchartButtonEl =\n",
              "        document.querySelector('#' + key + ' button');\n",
              "      quickchartButtonEl.disabled = true;  // To prevent multiple clicks.\n",
              "      quickchartButtonEl.classList.add('colab-df-spinner');\n",
              "      try {\n",
              "        const charts = await google.colab.kernel.invokeFunction(\n",
              "            'suggestCharts', [key], {});\n",
              "      } catch (error) {\n",
              "        console.error('Error during call to suggestCharts:', error);\n",
              "      }\n",
              "      quickchartButtonEl.classList.remove('colab-df-spinner');\n",
              "      quickchartButtonEl.classList.add('colab-df-quickchart-complete');\n",
              "    }\n",
              "    (() => {\n",
              "      let quickchartButtonEl =\n",
              "        document.querySelector('#df-9cbeeee3-e742-4820-8c50-e37a2f311c3a button');\n",
              "      quickchartButtonEl.style.display =\n",
              "        google.colab.kernel.accessAllowed ? 'block' : 'none';\n",
              "    })();\n",
              "  </script>\n",
              "</div>\n",
              "\n",
              "    </div>\n",
              "  </div>\n"
            ]
          },
          "metadata": {},
          "execution_count": 181
        }
      ]
    },
    {
      "cell_type": "code",
      "source": [
        "archivo_tabular.shape"
      ],
      "metadata": {
        "colab": {
          "base_uri": "https://localhost:8080/"
        },
        "id": "KehQl0XTAerl",
        "outputId": "2851ec20-0b2b-4ac0-af14-65bf6b0a7989"
      },
      "execution_count": null,
      "outputs": [
        {
          "output_type": "execute_result",
          "data": {
            "text/plain": [
              "(320, 2)"
            ]
          },
          "metadata": {},
          "execution_count": 162
        }
      ]
    },
    {
      "cell_type": "markdown",
      "source": [
        "### **Base de datos de grafo**"
      ],
      "metadata": {
        "id": "EUjioAmi-58Y"
      }
    },
    {
      "cell_type": "code",
      "source": [
        "# Crear un grafo dirigido para representar la base de datos de grafos\n",
        "grafo = nx.DiGraph()\n",
        "\n",
        "# Agregar nodos (entidades)\n",
        "entidades = [\"Alemania\",\"Reino Unido\",\"Estados Unidos\",\"Unión Soviética\",\"Japón\",\"Adolf Hitler\",\"Winston Churchill\",\"Franklin D. Roosevelt\",\n",
        "    \"Joseph Stalin\",\"Ataque a Pearl Harbor\",\"Operación Barbarroja\",\"Batalla de Stalingrado\",\"Día D\",\"Conferencia de Yalta\",\"Conferencia de Potsdam\",\n",
        "    \"Holocausto\",\"Campaña del Pacífico\",\"Tratado de Versalles\",\"Liga de Naciones\",\"Tratado de no agresión germano-soviético\",\n",
        "    \"Bomba atómica\",\"Nuremberg Trials\",\"Código Enigma\",\"Operación Overlord\"]\n",
        "\n",
        "grafo.add_nodes_from(entidades)\n",
        "\n",
        "# Agregar relaciones (triadas)\n",
        "relaciones = [\n",
        "    {\"source\": \"Alemania\", \"target\": \"Adolf Hitler\", \"label\": \"liderado_por\"},\n",
        "    {\"source\": \"Reino Unido\", \"target\": \"Winston Churchill\", \"label\": \"liderado_por\"},\n",
        "    {\"source\": \"Estados Unidos\", \"target\": \"Franklin D. Roosevelt\", \"label\": \"liderado_por\"},\n",
        "    {\"source\": \"Unión Soviética\", \"target\": \"Joseph Stalin\", \"label\": \"liderado_por\"},\n",
        "    {\"source\": \"Alemania\", \"target\": \"Unión Soviética\", \"label\": \"inicia\"},\n",
        "    {\"source\": \"Japón\", \"target\": \"Ataque a Pearl Harbor\", \"label\": \"inicia\"},\n",
        "    {\"source\": \"Alemania\", \"target\": \"Operación Barbarroja\", \"label\": \"inicia\"},\n",
        "    {\"source\": \"Unión Soviética\", \"target\": \"Batalla de Stalingrado\", \"label\": \"participa_en\"},\n",
        "    {\"source\": \"Estados Unidos\", \"target\": \"Día D\", \"label\": \"participa_en\"},\n",
        "    {\"source\": \"Reino Unido\", \"target\": \"Día D\", \"label\": \"participa_en\"},\n",
        "    {\"source\": \"Unión Soviética\", \"target\": \"Conferencia de Yalta\", \"label\": \"participa_en\"},\n",
        "    {\"source\": \"Estados Unidos\", \"target\": \"Conferencia de Potsdam\", \"label\": \"participa_en\"},\n",
        "    {\"source\": \"Alemania\", \"target\": \"Holocausto\", \"label\": \"involucrado_en\"},\n",
        "    {\"source\": \"Japón\", \"target\": \"Campaña del Pacífico\", \"label\": \"participa_en\"},\n",
        "    {\"source\": \"Alemania\", \"target\": \"Tratado de Versalles\", \"label\": \"firmado_con\"},\n",
        "    {\"source\": \"Alemania\", \"target\": \"Liga de Naciones\", \"label\": \"miembro_de\"},\n",
        "    {\"source\": \"Alemania\", \"target\": \"Tratado de no agresión germano-soviético\", \"label\": \"firmado_con\"},\n",
        "    {\"source\": \"Estados Unidos\", \"target\": \"Bomba atómica\", \"label\": \"desarrolla\"},\n",
        "    {\"source\": \"Alemania\", \"target\": \"Nuremberg Trials\", \"label\": \"juzgado_en\"},\n",
        "    {\"source\": \"Alemania\", \"target\": \"Código Enigma\", \"label\": \"desarrolla\"},\n",
        "    {\"source\": \"Estados Unidos\", \"target\": \"Operación Overlord\", \"label\": \"inicia\"},\n",
        "    {\"source\": \"Reino Unido\", \"target\": \"Operación Overlord\", \"label\": \"inicia\"},\n",
        "]\n",
        "\n",
        "# Agregar nodos y relaciones al grafo\n",
        "for rel in relaciones:\n",
        "    grafo.add_edge(rel[\"source\"], rel[\"target\"], label=rel[\"label\"])\n",
        "\n",
        "# Crar carpeta\n",
        "carpeta = \"SGM_grafo\"\n",
        "ruta = os.path.join(\"/content\", carpeta)\n",
        "os.makedirs(ruta, exist_ok=True)\n",
        "\n",
        "# Guardar el grafo en formato GraphML en la carpeta 'SGM'\n",
        "ruta_grafo = os.path.join(ruta, \"grafo.graphml\")\n",
        "nx.write_graphml(grafo, ruta_grafo)"
      ],
      "metadata": {
        "id": "PXUmPh5leyRa"
      },
      "execution_count": 21,
      "outputs": []
    },
    {
      "cell_type": "code",
      "source": [
        "# Dibujar el grafo\n",
        "plt.figure(figsize=(20,10))\n",
        "pos = nx.spring_layout(grafo)\n",
        "edge_labels = nx.get_edge_attributes(grafo, 'label')\n",
        "nx.draw(grafo, pos, with_labels=True, font_weight='bold', node_size=700, node_color='skyblue', edge_color='gray', arrowsize=15)\n",
        "nx.draw_networkx_edge_labels(grafo, pos, edge_labels=edge_labels)\n",
        "\n",
        "# Mostrar el grafo\n",
        "plt.show()"
      ],
      "metadata": {
        "id": "qpCFy_gzgHHm"
      },
      "execution_count": null,
      "outputs": []
    },
    {
      "cell_type": "markdown",
      "source": [
        "# **Modelo**"
      ],
      "metadata": {
        "id": "zbEhLrxpwxVW"
      }
    },
    {
      "cell_type": "code",
      "source": [],
      "metadata": {
        "id": "kE4FDTgm17Wl"
      },
      "execution_count": 22,
      "outputs": []
    },
    {
      "cell_type": "code",
      "source": [
        "def zephyr_instruct_template(messages, add_generation_prompt=True):\n",
        "  # Definir la plantilla Jinja\n",
        "  template_str = \"{% for message in messages %}\"\n",
        "  template_str += \"{% if message['role'] == 'user' %}\"\n",
        "  template_str += \"<|user|>{{ message['content'] }}</s>\\n\"\n",
        "  template_str += \"{% elif message['role'] == 'assistant' %}\"\n",
        "  template_str += \"<|assistant|>{{ message['content'] }}</s>\\n\"\n",
        "  template_str += \"{% elif message['role'] == 'system' %}\"\n",
        "  template_str += \"<|system|>{{ message['content'] }}</s>\\n\"\n",
        "  template_str += \"{% else %}\"\n",
        "  template_str += \"<|unknown|>{{ message['content'] }}</s>\\n\"\n",
        "  template_str += \"{% endif %}\"\n",
        "  template_str += \"{% endfor %}\"\n",
        "  template_str += \"{% if add_generation_prompt %}\"\n",
        "  template_str += \"<|assistant|>\\n\"\n",
        "  template_str += \"{% endif %}\"\n",
        "  # Crear un objeto de plantilla con la cadena de plantilla\n",
        "  template = Template(template_str)\n",
        "  # Renderizar la plantilla con los mensajes proporcionados\n",
        "  return template.render(messages=messages, add_generation_prompt=add_generation_prompt)"
      ],
      "metadata": {
        "id": "xIds2AYaoMwQ"
      },
      "execution_count": 23,
      "outputs": []
    },
    {
      "cell_type": "code",
      "source": [
        "# Aquí hacemos la llamada el modelo\n",
        "def generate_answer(prompt: str, max_new_tokens: int = 768) -> None:\n",
        "  try:\n",
        "    # Tu clave API de Hugging Face\n",
        "    api_key = HUGGINGFACE_TOKEN\n",
        "    # URL de la API de Hugging Face para la generación de texto\n",
        "    api_url = \"https://api-inference.huggingface.co/models/HuggingFaceH4/zephyr-7b-beta\"\n",
        "    # Cabeceras para la solicitud\n",
        "    headers = {\"Authorization\": f\"Bearer {api_key}\"}\n",
        "    # Datos para enviar en la solicitud POST\n",
        "    data = {\n",
        "      \"inputs\": prompt,\n",
        "      \"parameters\": {\n",
        "        \"max_new_tokens\": max_new_tokens,\n",
        "        \"temperature\": 0.7,\n",
        "        \"top_k\": 50,\n",
        "        \"top_p\": 0.95\n",
        "        }\n",
        "      }\n",
        "    # Realizamos la solicitud POST\n",
        "    response = requests.post(api_url, headers=headers, json=data)\n",
        "    # Extraer respuesta\n",
        "    respuesta = response.json()[0][\"generated_text\"][len(prompt):]\n",
        "    return respuesta\n",
        "  except Exception as e:\n",
        "    print(f\"An error occurred: {e}\")"
      ],
      "metadata": {
        "id": "hJHgrNlwoaii"
      },
      "execution_count": 24,
      "outputs": []
    },
    {
      "cell_type": "code",
      "source": [
        "# Preparar el prompt en estilo QA\n",
        "def prepare_prompt(query_str: str, nodes: list):\n",
        "  TEXT_QA_PROMPT_TMPL = (\n",
        "    \"La información de contexto es la siguiente:\\n\"\n",
        "    \"---------------------\\n\"\n",
        "    \"{context_str}\\n\"\n",
        "    \"---------------------\\n\"\n",
        "    \"Dada la información de contexto anterior, y sin utilizar conocimiento previo, responde la siguiente pregunta.\\n\"\n",
        "    \"Pregunta: {query_str}\\n\"\n",
        "    \"Respuesta: \"\n",
        "  )\n",
        "  # Construimos el contexto de la pregunta\n",
        "  context_str = ''\n",
        "  for node in nodes:\n",
        "    context_str += f\"{node.text}\\n\"\n",
        "    messages = [\n",
        "      {\n",
        "      \"role\": \"system\",\n",
        "      \"content\": \"Eres un asistente experto en la segunda guerra mundial que siempre responde con respuestas veraces, útiles y basadas en hechos. Si la pregunta incluye otra temática, respondes que no tienes conocimiento sobre ese tema en particular. No agregues más informacion que la solicitada\",\n",
        "      },\n",
        "      {\"role\": \"user\", \"content\": TEXT_QA_PROMPT_TMPL.format(context_str=context_str, query_str=query_str)},\n",
        "      ]\n",
        "    final_prompt = zephyr_instruct_template(messages)\n",
        "    return final_prompt"
      ],
      "metadata": {
        "id": "EgEFBhXUwN1-"
      },
      "execution_count": 25,
      "outputs": []
    },
    {
      "cell_type": "code",
      "source": [
        "# Realizar el split del texto\n",
        "text_splitter_doc = SentenceSplitter(chunk_size=1024, chunk_overlap=200)\n",
        "text_split = text_splitter_doc.split_text(doc_final)\n",
        "\n",
        "# Generar los embeddings de los chunks\n",
        "embed_model = LangchainEmbedding(HuggingFaceEmbeddings(model_name='sentence-transformers/paraphrase-multilingual-mpnet-base-v2'))\n",
        "embeddings = [embed_model.get_text_embedding(text) for text in text_split]\n",
        "\n",
        "# Configuración inicial de ChromaDB\n",
        "client = chromadb.Client()\n",
        "collection = client.create_collection(\"SegundaGuerraMundial3\")\n",
        "\n",
        "# Almacenamiento de los datos en la base vectorial\n",
        "vector_store = ChromaVectorStore(chroma_collection=collection)\n",
        "\n",
        "# Agregar documentos a la base de datos con sus embeddings\n",
        "collection.add(\n",
        "    documents= text_split,\n",
        "    ids=[\"id\" + str(i) for i in range(1, len(text_split) + 1)],\n",
        "    embeddings= embeddings)"
      ],
      "metadata": {
        "id": "GQZeg_ulBtLD"
      },
      "execution_count": null,
      "outputs": []
    },
    {
      "cell_type": "code",
      "source": [
        "# Crear un objeto SimpleGraphStore\n",
        "graph_store = SimpleGraphStore(graph=grafo)\n",
        "\n",
        "# Agregar nodos y relaciones al SimpleGraphStore\n",
        "for node in grafo.nodes:\n",
        "    graph_store.upsert_triplet(node, \"type_of\", \"entity\")\n",
        "\n",
        "for edge in grafo.edges(data=True):\n",
        "    source, target, data = edge\n",
        "    label = data.get(\"label\", \"related_to\")\n",
        "    graph_store.upsert_triplet(source, label, target)\n",
        "\n",
        "# Visualzar\n",
        "#print(graph_store._data.graph_dict)"
      ],
      "metadata": {
        "id": "lkiM7pil97Y1"
      },
      "execution_count": 31,
      "outputs": []
    },
    {
      "cell_type": "code",
      "source": [
        "# Modelos de embeddings\n",
        "print('Cargando modelo de embeddings...')\n",
        "embed_model_graph = OpenAIEmbedding(api_key=OPENAI_API_KEY, model=\"text-embedding-ada-002\")\n",
        "\n",
        "# Modelo de segmentación de texto\n",
        "text_splitter_csv = CharacterTextSplitter(chunk_size=150, chunk_overlap=0, separator='\\n')\n",
        "\n",
        "# Seteo del service context y el storage context (cambiando los valores default)\n",
        "svc_doc = ServiceContext.from_defaults(embed_model=embed_model, llm=None)\n",
        "\n",
        "svc_tab = ServiceContext.from_defaults(embed_model=embed_model, llm=None, text_splitter=text_splitter_csv)\n",
        "stc_tab = StorageContext.from_defaults(vector_store=None)\n",
        "\n",
        "svc_graph = ServiceContext.from_defaults(embed_model=embed_model_graph, llm=None)\n",
        "stc_graph = StorageContext.from_defaults(graph_store=graph_store)\n",
        "\n",
        "# Carga de las diferentes fuentes de datos\n",
        "print('Indexando documentos...')\n",
        "documents_graph = SimpleDirectoryReader(\"/content/SGM_grafo\").load_data()\n",
        "documents_tabular = SimpleDirectoryReader(input_dir='/content/SGM_csv', required_exts=['.csv']).load_data()\n",
        "\n",
        "# Construcción de los índices de documentos a partir de los datos\n",
        "index_documents = VectorStoreIndex.from_vector_store(vector_store, service_context=svc_doc, show_progress=True)\n",
        "index_graph = KnowledgeGraphIndex.from_documents(documents_graph, max_triplets_per_chunk=2, storage_context=stc_graph, service_context=svc_graph, show_progress=True)\n",
        "index_tabular = VectorStoreIndex(documents_tabular, storage_context=stc_tab, service_context=svc_tab, show_progress=True)\n",
        "\n",
        "# Construcción de los retrievers a partir de los índices, para realizar la búsqueda vectorial de documentos\n",
        "retriever_1 = index_documents.as_retriever(similarity_top_k=2)\n",
        "retriever_2 = index_graph.as_retriever(similarity_top_k=2)\n",
        "retriever_3 = index_tabular.as_retriever(similarity_top_k=2)"
      ],
      "metadata": {
        "id": "EW6sVVs_lxkq"
      },
      "execution_count": null,
      "outputs": []
    },
    {
      "cell_type": "markdown",
      "source": [
        "### **Función para clasificar las solicitudes**"
      ],
      "metadata": {
        "id": "MmGgwEkzFUhw"
      }
    },
    {
      "cell_type": "code",
      "source": [
        "def clasificar_prompt(prompt: str, max_new_tokens: int = 768) -> None:\n",
        "  messages = [\n",
        "    {'role': 'system',\n",
        "     'content': 'You are an assistant who only knows how to identify the subject of a request or message.\\n\\\n",
        "      Respond directly and concisely, avoiding including additional information since it is only useful for classifying.\\n\\\n",
        "      You do not have general knowledge and you are lazy when responding, so you do not give more than what is requested of you.'},\n",
        "    {'role': 'user',\n",
        "     'content': '¿Cuáles fueron las causas principales de la Segunda Guerra Mundial?'},\n",
        "    {'role': 'assistant',\n",
        "     'content': 'Categoría: Texto'},\n",
        "    {'role': 'user',\n",
        "     'content': 'Dar una descripción de los acontecimientos ocurridos durante la Segunda Guerra Mundial'},\n",
        "    {'role': 'assistant',\n",
        "     'content': 'Categoría: Texto'},\n",
        "    {'role': 'user',\n",
        "     'content': 'Breve resumen de los que fué la Segunda Guerra Mundial'},\n",
        "    {'role': 'assistant',\n",
        "     'content': 'Categoría: Texto'},\n",
        "    {'role': 'user',\n",
        "     'content': 'Describe el papel de Adolf Hitler durante la Segunda Guerra Mundial.'},\n",
        "    {'role': 'assistant',\n",
        "     'content': 'Categoría: Texto'},\n",
        "    {'role': 'user',\n",
        "     'content': '¿Qué motivó al inicio de la Segunda Guerra Mundial?'},\n",
        "    {'role': 'assistant',\n",
        "     'content': 'Categoría: Texto'},\n",
        "    {'role': 'user',\n",
        "     'content': 'Explique el desarrollo y el uso de la bomba atómica durante la Segunda Guerra Mundial.'},\n",
        "    {'role': 'assistant',\n",
        "     'content': 'Categoría: Texto'},\n",
        "    {'role': 'user',\n",
        "     'content': '¿Qué acuerdos se alcanzaron en la Conferencia de Yalta?'},\n",
        "    {'role': 'assistant',\n",
        "     'content': 'Categoría: Texto'},\n",
        "    {'role': 'user',\n",
        "     'content': '¿Quién lideraba Alemania durante la Segunda Guerra Mundial?'},\n",
        "    {'role': 'assistant',\n",
        "     'content': 'Categoría: Grafo'},\n",
        "    {'role': 'user',\n",
        "     'content': '¿Cuál fue el evento que desencadenó la participación de Estados Unidos en la guerra?'},\n",
        "    {'role': 'assistant',\n",
        "     'content': 'Categoría: Grafo'},\n",
        "    {'role': 'user',\n",
        "     'content': '¿Qué países estuvieron involucrados en la Campaña del Pacífico?'},\n",
        "    {'role': 'assistant',\n",
        "     'content': 'Categoría: Grafo'},\n",
        "    {'role': 'user',\n",
        "     'content': '¿Con quién firmó Alemania el Tratado de Versalles?'},\n",
        "    {'role': 'assistant',\n",
        "     'content': 'Categoría: Grafo'},\n",
        "    {'role': 'user',\n",
        "     'content': '¿Qué operación militar liderada por Estados Unidos marcó un punto de inflexión en Europa durante la guerra?'},\n",
        "    {'role': 'assistant',\n",
        "     'content': 'Categoría: Grafo'},\n",
        "    {'role': 'user',\n",
        "     'content': 'Nombrar los lideres de las distintas fuerzas enfrentadas durante la Segunda Guerra Mundial'},\n",
        "    {'role': 'assistant',\n",
        "     'content': 'Categoría: Grafo'},\n",
        "    {'role': 'user',\n",
        "     'content': '¿Cuándo se firmó el Tratado de Rapallo?'},\n",
        "    {'role': 'assistant',\n",
        "     'content': 'Categoría: Tabular'},\n",
        "    {'role': 'user',\n",
        "     'content': '¿Qué evento importante ocurrió el 24 de abril de 1926?'},\n",
        "    {'role': 'assistant',\n",
        "     'content': 'Categoría: Tabular'},\n",
        "    {'role': 'user',\n",
        "     'content': '¿Cuándo tuvo lugar el Incidente de Jinan?'},\n",
        "    {'role': 'assistant',\n",
        "     'content': 'Categoría: Tabular'},\n",
        "    {'role': 'user',\n",
        "     'content': '¿Cuál fue la fecha de inicio de la Segunda Guerra Mundial?'},\n",
        "    {'role': 'assistant',\n",
        "     'content': 'Categoría: Tabular'},\n",
        "    {'role': 'user',\n",
        "     'content': '¿En qué fecha se inició la Operación Overlord?'},\n",
        "    {'role': 'assistant',\n",
        "     'content': 'Categoría: Tabular'},\n",
        "    {'role': 'user',\n",
        "     'content': 'Dar nombres de diez eventos importantes ocurridos en la Segunda Guerra Mundial'},\n",
        "    {'role': 'assistant',\n",
        "     'content': 'Categoría: Tabular'},\n",
        "    {'role': 'user',\n",
        "     'content': '¿Dónde se arrojaron bombas nucleares en Agosto de 1945?'},\n",
        "    {'role': 'assistant',\n",
        "     'content': 'Categoría: Tabular'},\n",
        "    {'role': 'user',\n",
        "     'content': f'Classify the content of the messages based on the elements in the following list [Texto, Grafo, Tabular], and\\n\\\n",
        "      returns only the selected item from the list, without including additional information.\\n\\\n",
        "     \"Texto\": If the question focuses on the history, motives, or specific details of an event, it can be categorized as \"Texto\".\\n\\\n",
        "     \"Grafo\": If it is asked about any relationship, leadership, sides or if the question focuses on the relationship between two entities (entity_1 --relationship--> entity_2), it can be categorized as \"Grafo\".\\n\\\n",
        "     \"Tabular\": If the question focuses on specific times or dates of an event, it can be categorized as \"Tabular\".\\n\\\n",
        "     The response format should be \"Elemento\"\\n\\\n",
        "     {prompt}'}\n",
        "  ]\n",
        "  prompt_formatted: str = zephyr_instruct_template(messages, add_generation_prompt=True)\n",
        "  calsificacion = generate_answer(prompt_formatted)\n",
        "  return calsificacion"
      ],
      "metadata": {
        "id": "euLabYRTltAt"
      },
      "execution_count": 155,
      "outputs": []
    },
    {
      "cell_type": "markdown",
      "source": [
        "### **Ejemplo de clasificación:**"
      ],
      "metadata": {
        "id": "b1FWlA8fFOaE"
      }
    },
    {
      "cell_type": "code",
      "source": [
        "preguntas = ['¿En qué año se llevaron a cabo los juicios contra Japón?',\n",
        "             '¿Cuál fué el motivo de la Segunda Guerra Mundial?',\n",
        "             '¿Quiénes integraban las fuerzas aliadas?',\n",
        "             '¿Cuándo se firmó el tratado de Versalles?',\n",
        "             '¿Dar una breve descripción de la Segunda Guerra Mundial?',\n",
        "             '¿Quién lideró Alemania durante la Segunda Guerra Mundial?'\n",
        "             ]\n",
        "for pregunta in preguntas:\n",
        "  print(f'{pregunta} --> {clasificar_prompt(pregunta)}\\n')"
      ],
      "metadata": {
        "colab": {
          "base_uri": "https://localhost:8080/"
        },
        "id": "BEfprNX1vfcs",
        "outputId": "cd8821e1-5a1f-4eb8-d0b2-0f8fe8ee285a"
      },
      "execution_count": 156,
      "outputs": [
        {
          "output_type": "stream",
          "name": "stdout",
          "text": [
            "¿En qué año se llevaron a cabo los juicios contra Japón? --> \"Tabular\"\n",
            "\n",
            "¿Cuál fué el motivo de la Segunda Guerra Mundial? --> \"Texto\"\n",
            "\n",
            "¿Quiénes integraban las fuerzas aliadas? --> \"Grafo\"\n",
            "\n",
            "¿Cuándo se firmó el tratado de Versalles? --> \"Tabular\"\n",
            "\n",
            "¿Dar una breve descripción de la Segunda Guerra Mundial? --> \"Texto\"\n",
            "\n",
            "¿Quién lideró Alemania durante la Segunda Guerra Mundial? --> \"Grafo\"\n",
            "\n"
          ]
        }
      ]
    },
    {
      "cell_type": "markdown",
      "source": [],
      "metadata": {
        "id": "z_xqhw5HYyas"
      }
    },
    {
      "cell_type": "code",
      "source": [
        "print('Realizando llamada a HuggingFace para generar respuestas...\\n')\n",
        "\n",
        "queries = ['¿En que año fueron los juicios a Japón?']\n",
        "\n",
        "for query_str in queries:\n",
        "  # Traemos los documentos más relevantes para la consulta\n",
        "  nodes = retriever_3.retrieve(query_str)\n",
        "  final_prompt = prepare_prompt(query_str, nodes)\n",
        "  print('Pregunta:', query_str)\n",
        "  print('Respuesta:')\n",
        "  print(generate_answer(final_prompt))\n",
        "  print('-------------------------------------------------------')"
      ],
      "metadata": {
        "id": "lb9GQJ1Kwl1u",
        "colab": {
          "base_uri": "https://localhost:8080/"
        },
        "outputId": "8dd918da-3d15-4b28-8ec1-e4f255cce899"
      },
      "execution_count": 33,
      "outputs": [
        {
          "output_type": "stream",
          "name": "stdout",
          "text": [
            "Realizando llamada a HuggingFace para generar respuestas...\n",
            "\n",
            "Pregunta: ¿En que año fueron los juicios a Japón?\n",
            "Respuesta:\n",
            "Los juicios contra Japón, conocidos como el Proceso de Tokio, se llevaron a cabo entre el 3 de mayo de 1946 y el 12 de noviembre de 1948.\n",
            "-------------------------------------------------------\n"
          ]
        }
      ]
    }
  ]
}