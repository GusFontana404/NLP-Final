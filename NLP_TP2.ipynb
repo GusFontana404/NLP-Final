{
  "nbformat": 4,
  "nbformat_minor": 0,
  "metadata": {
    "colab": {
      "provenance": [],
      "mount_file_id": "1-kUQlXQ6Rkl-MTlap5NVMM60oM5-7xmo",
      "authorship_tag": "ABX9TyPKc4+L6CbzPgz2m8Qg2nb7"
    },
    "kernelspec": {
      "name": "python3",
      "display_name": "Python 3"
    },
    "language_info": {
      "name": "python"
    }
  },
  "cells": [
    {
      "cell_type": "markdown",
      "source": [
        "# **Trabajo Práctico Final NLP**\n",
        "\n"
      ],
      "metadata": {
        "id": "F68ch-xN5QS2"
      }
    },
    {
      "cell_type": "markdown",
      "source": [
        "## **Ejercicio 1 - RAG**\n",
        "**Crear un chatbot experto en un tema a elección, usando la técnica RAG. Como fuentes de conocimiento se utilizarán al menos las siguientes fuentes:**\n",
        "\n",
        "* **Documentos de texto**\n",
        "*  **Datos numéricos en formato tabular (por ej., Dataframes, CSV, sqlite, etc.)**\n",
        "*  **Base de datos de grafos (Online o local)**\n",
        "\n",
        "\n",
        "`Elijo que el chatbot se especialice en historia de la Segunda Guerra Mundial`"
      ],
      "metadata": {
        "id": "uu319V3d5xxB"
      }
    },
    {
      "cell_type": "markdown",
      "source": [
        "### **Set de datos**\n",
        "\n",
        "**`Documentos de textos`**\n",
        "\n",
        "[**Segunda Guerra Mundial - Wikipedia**](https://es.wikipedia.org/wiki/Segunda_Guerra_Mundial)\n",
        "\n",
        "[**Breve Historia de la Segunda Guerra Mundial - Jesús Hernández**](https://sgfm.elcorteingles.es/SGFM/dctm/MEDIA02/CONTENIDOS/201503/17/00106518013690____4_.pdf)\n",
        "\n",
        "[**LA SEGUNDA GUERRA MUNDIAL (1939-1945) - profesoremilio**](https://profesoremilio.files.wordpress.com/2018/09/tema-8-la-segunda-guerra-mundial.pdf)\n",
        "\n",
        "[**LA SEGUNDA GUERRA MUNDIAL (1939-1945) - IES Fray Pedro de Urbina – Departamento de Geografía e Historia**](https://www.iesfraypedro.com/files/sociales/segunda-guerra-mundial-1b.pdf)\n",
        "\n",
        "[**La II Guerra Mundial - Sabuco**](https://www.sabuco.com/historia/IIGMb.pdf)\n",
        "\n",
        "**`Datos tabulares`**\n",
        "\n",
        "[**WW2 - Kaggle**](https://www.kaggle.com/datasets/ramjasmaurya/world-war-2-archive?select=events.csv)\n",
        "\n",
        "\n",
        "---\n",
        "\n",
        "Nota: de los archivos tabulares de Kaggle solo utilizo el que corresponde a los eventos. El mismo fue traducido al español para mejorar la compresión de las solicitudes."
      ],
      "metadata": {
        "id": "WhNrGFAx5cu4"
      }
    },
    {
      "cell_type": "markdown",
      "source": [
        "### **Librerías**"
      ],
      "metadata": {
        "id": "fGKgdXEvP8-G"
      }
    },
    {
      "cell_type": "code",
      "source": [
        "!pip install wikipedia-api\n",
        "!pip install pdfminer.six\n",
        "!pip install gdown\n",
        "!pip install llama_index==0.10.0 sentence-transformers pypdf langchain python-decouple\n",
        "!pip install langchain_community\n",
        "!pip install pydantic==1.10.8\n",
        "!pip install typing_extensions==4.4.0\n",
        "!pip install chromadb"
      ],
      "metadata": {
        "id": "2xq54539D0to"
      },
      "execution_count": null,
      "outputs": []
    },
    {
      "cell_type": "code",
      "source": [
        "import pandas as pd\n",
        "import re\n",
        "import wikipediaapi\n",
        "from pdfminer.high_level import extract_text\n",
        "\n",
        "import gdown\n",
        "import os\n",
        "import shutil\n",
        "import requests\n",
        "import chromadb\n",
        "import networkx as nx\n",
        "import matplotlib.pyplot as plt\n",
        "from IPython.display import HTML\n",
        "from IPython.display import clear_output"
      ],
      "metadata": {
        "id": "cKhMRGnl-cjO"
      },
      "execution_count": 6,
      "outputs": []
    },
    {
      "cell_type": "code",
      "source": [
        "from langchain.embeddings.huggingface import HuggingFaceEmbeddings\n",
        "from langchain.embeddings import OpenAIEmbeddings\n",
        "from langchain.text_splitter import CharacterTextSplitter\n",
        "from llama_index.legacy.embeddings import LangchainEmbedding, OpenAIEmbedding\n",
        "from llama_index.legacy import ServiceContext, VectorStoreIndex, SimpleDirectoryReader, KnowledgeGraphIndex\n",
        "from llama_index.legacy.storage.storage_context import StorageContext\n",
        "from llama_index.legacy.text_splitter import SentenceSplitter\n",
        "from llama_index.legacy.graph_stores import SimpleGraphStore\n",
        "from llama_index.legacy.vector_stores import ChromaVectorStore\n",
        "from jinja2 import Template"
      ],
      "metadata": {
        "id": "ydnM6X57ww5H"
      },
      "execution_count": null,
      "outputs": []
    },
    {
      "cell_type": "markdown",
      "source": [
        "### **Carga de datos**"
      ],
      "metadata": {
        "id": "JhQFggRt-PT9"
      }
    },
    {
      "cell_type": "code",
      "source": [
        "# Función para extraer texto\n",
        "\n",
        "def extraer_texto_pdf (ruta_pdf, pagina_inicio=None, pagina_final=None):\n",
        "  \"\"\"\n",
        "   Función para extraer texto de un documento PDF.\n",
        "\n",
        "  Parámetros:\n",
        "  - ruta_pdf: Ruta del archivo PDF.\n",
        "  - pagina_inicio: Página de inicio para la extracción (opcional).\n",
        "  - pagina_final: Página final para la extracción (opcional).\n",
        "\n",
        "  Retorna el texto extraído.\n",
        "  \"\"\"\n",
        "  # Verificar si se especifican páginas de inicio y fin\n",
        "  if pagina_inicio is not None and pagina_final is not None:\n",
        "    # Extraer desde la página de inicio hasta la página de fin\n",
        "    texto = extract_text(ruta_pdf, page_numbers=range(pagina_inicio, pagina_final))\n",
        "  else:\n",
        "    # Extraer todo el texto del PDF\n",
        "    texto = extract_text(ruta_pdf)\n",
        "  return texto"
      ],
      "metadata": {
        "id": "l2XcaJNgh1mG"
      },
      "execution_count": 4,
      "outputs": []
    },
    {
      "cell_type": "code",
      "source": [
        "# Link con archivos sobre historia de la Segunda Guerra Mundial\n",
        "url = 'https://drive.google.com/drive/folders/1E98wUJ9iKygWe5jLiZIHtPJ_PPaFoaKH?usp=sharing'\n",
        "\n",
        "# Descarga carpeta 'Data' y guarda en la carpeta 'Historia_SGM'\n",
        "gdown.download_folder(url, quiet=True, output='Historia_SGM')"
      ],
      "metadata": {
        "id": "_EyjkWHUDCfl"
      },
      "execution_count": null,
      "outputs": []
    },
    {
      "cell_type": "code",
      "source": [
        "#Texto Wikipedia\n",
        "\n",
        "# Configuración de idioma de Wikipedia ('es')\n",
        "wiki_wiki = wikipediaapi.Wikipedia(language='es', user_agent=\"MiAplicacion/1.0\")\n",
        "\n",
        "# Obtener la página\n",
        "archivo_wiki = wiki_wiki.page(\"Segunda_Guerra_Mundial\")\n",
        "\n",
        "archivo = archivo_wiki.text[:-4464]\n",
        "\n",
        "# Eliminar corchetes (referencias)\n",
        "archivo = re.sub(r'\\[[^\\]]*\\]', '', archivo)"
      ],
      "metadata": {
        "id": "-WuW337HUsAW"
      },
      "execution_count": 5,
      "outputs": []
    },
    {
      "cell_type": "code",
      "source": [
        "# Llamar a la función para extraer texto\n",
        "texto_1 = extraer_texto_pdf('/content/Historia_SGM/segunda_guerra_mundial_pdf.pdf', 16,50) # TEXTO - Jesús Hernandz\n",
        "\n",
        "texto_2 = extraer_texto_pdf('/content/Historia_SGM/tema-8-la-segunda-guerra-mundial.pdf') # TEXTO - profesoremilio\n",
        "\n",
        "texto_3 = extraer_texto_pdf('/content/Historia_SGM/segunda-guerra-mundial-1b.pdf') # TEXTO - IES Fray Pedro de Urbina\n",
        "\n",
        "texto_4 = extraer_texto_pdf('/content/Historia_SGM/IIGMb.pdf') # TEXTO - Sabuco\n",
        "\n",
        "texto_5 = archivo # TEXTO - Wikipedia\n",
        "\n",
        "# Limpieza de texto\n",
        "texto_1 = re.sub(r'.*'+re.escape('BH SEGUNDA GUERRA REV')+r'.*\\n', '', texto_1)\n",
        "texto_1 = re.sub(r'\\n\\d+\\n', '', texto_1)\n",
        "texto_1 = re.sub(r'\\bREVE HISTORIA DE LA SEGUNDA GUERRA MUNDIAL\\b', '', texto_1)\n",
        "texto_1 = re.sub(r'\\bB\\b', '', texto_1)\n",
        "texto_1 = re.sub(r'\\bESÚS HERNÁNDEZ\\b', '', texto_1)\n",
        "texto_1 = re.sub(r'\\n+\\s*\\n+', '\\n', texto_1)\n",
        "texto_1 = re.sub(r'(\\w+)-\\s*\\n\\s*(\\w+)', r'\\1\\2', texto_1)\n",
        "texto_1 = re.sub(r'\\bJ\\b', '', texto_1.strip())\n",
        "\n",
        "texto_2 = re.sub(r'Tema 8. LA SEGUNDA GUERRA MUNDIAL', '', texto_2)\n",
        "texto_2 = texto_2.replace(' (1939-1945)','')\n",
        "texto_2 = re.sub(r'\\n\\d+\\n?', '', texto_2.strip())\n",
        "\n",
        "texto_3 = re.sub(r'IES Fray Pedro de Urbina – Departamento de Geografía e Historia', '', texto_3)\n",
        "texto_3 = texto_3.replace('LA SEGUNDA GUERRA MUNDIAL (1939-1945)', '')\n",
        "texto_3 = re.sub(r'\\n+\\s*\\n+', '\\n', texto_3.strip())\n",
        "\n",
        "texto_4 = re.sub(r'\\n+\\s*\\n+', '\\n', texto_4)\n",
        "texto_4 = re.sub(r'Página \\| \\d+', '', texto_4.strip())\n",
        "\n",
        "# Concateno todos los documentos\n",
        "documentos = [texto_1,texto_2,texto_3,texto_4,texto_5]\n",
        "doc_final = ''\n",
        "for documento in documentos:\n",
        "  doc_final += documento"
      ],
      "metadata": {
        "id": "H0qkp74GaBKQ"
      },
      "execution_count": 8,
      "outputs": []
    },
    {
      "cell_type": "markdown",
      "source": [
        "### **Datos tabulares**"
      ],
      "metadata": {
        "id": "IPJ1VHyY-zXA"
      }
    },
    {
      "cell_type": "code",
      "source": [
        "# Cargo los datos tabulares\n",
        "archivo_tabular = pd.read_csv('/content/Historia_SGM/eventos.txt')\n",
        "archivo_tabular = archivo_tabular.drop('Id', axis=1)\n",
        "# Elimino duplicados en la coumna 'Evento'\n",
        "archivo_tabular = archivo_tabular.drop_duplicates('Evento')"
      ],
      "metadata": {
        "id": "cyEGFsyw_O-A"
      },
      "execution_count": 9,
      "outputs": []
    },
    {
      "cell_type": "code",
      "source": [
        "# Guardar el archivo CSV\n",
        "carpeta_csv = 'SGM_csv/'\n",
        "\n",
        "if not os.path.exists(carpeta_csv):\n",
        "    os.makedirs(carpeta_csv)\n",
        "archivo_tabular.to_csv(carpeta_csv + 'archivo.csv', index=False)"
      ],
      "metadata": {
        "id": "IL89SyOP5gWT"
      },
      "execution_count": 10,
      "outputs": []
    },
    {
      "cell_type": "code",
      "source": [
        "archivo_tabular.head(3)"
      ],
      "metadata": {
        "colab": {
          "base_uri": "https://localhost:8080/",
          "height": 143
        },
        "id": "G4tGsNIXAX93",
        "outputId": "4bc0a1b6-6e5e-4f20-c004-add5a01ed7dc"
      },
      "execution_count": null,
      "outputs": [
        {
          "output_type": "execute_result",
          "data": {
            "text/plain": [
              "               Evento        Fecha\n",
              "0  Tratado de Rapallo  16 Abr 1922\n",
              "1   Tratado de Berlín  24 Abr 1926\n",
              "2  Incidente de Jinan   3 May 1928"
            ],
            "text/html": [
              "\n",
              "  <div id=\"df-6884939e-e173-47b3-b54b-7f63272868db\" class=\"colab-df-container\">\n",
              "    <div>\n",
              "<style scoped>\n",
              "    .dataframe tbody tr th:only-of-type {\n",
              "        vertical-align: middle;\n",
              "    }\n",
              "\n",
              "    .dataframe tbody tr th {\n",
              "        vertical-align: top;\n",
              "    }\n",
              "\n",
              "    .dataframe thead th {\n",
              "        text-align: right;\n",
              "    }\n",
              "</style>\n",
              "<table border=\"1\" class=\"dataframe\">\n",
              "  <thead>\n",
              "    <tr style=\"text-align: right;\">\n",
              "      <th></th>\n",
              "      <th>Evento</th>\n",
              "      <th>Fecha</th>\n",
              "    </tr>\n",
              "  </thead>\n",
              "  <tbody>\n",
              "    <tr>\n",
              "      <th>0</th>\n",
              "      <td>Tratado de Rapallo</td>\n",
              "      <td>16 Abr 1922</td>\n",
              "    </tr>\n",
              "    <tr>\n",
              "      <th>1</th>\n",
              "      <td>Tratado de Berlín</td>\n",
              "      <td>24 Abr 1926</td>\n",
              "    </tr>\n",
              "    <tr>\n",
              "      <th>2</th>\n",
              "      <td>Incidente de Jinan</td>\n",
              "      <td>3 May 1928</td>\n",
              "    </tr>\n",
              "  </tbody>\n",
              "</table>\n",
              "</div>\n",
              "    <div class=\"colab-df-buttons\">\n",
              "\n",
              "  <div class=\"colab-df-container\">\n",
              "    <button class=\"colab-df-convert\" onclick=\"convertToInteractive('df-6884939e-e173-47b3-b54b-7f63272868db')\"\n",
              "            title=\"Convert this dataframe to an interactive table.\"\n",
              "            style=\"display:none;\">\n",
              "\n",
              "  <svg xmlns=\"http://www.w3.org/2000/svg\" height=\"24px\" viewBox=\"0 -960 960 960\">\n",
              "    <path d=\"M120-120v-720h720v720H120Zm60-500h600v-160H180v160Zm220 220h160v-160H400v160Zm0 220h160v-160H400v160ZM180-400h160v-160H180v160Zm440 0h160v-160H620v160ZM180-180h160v-160H180v160Zm440 0h160v-160H620v160Z\"/>\n",
              "  </svg>\n",
              "    </button>\n",
              "\n",
              "  <style>\n",
              "    .colab-df-container {\n",
              "      display:flex;\n",
              "      gap: 12px;\n",
              "    }\n",
              "\n",
              "    .colab-df-convert {\n",
              "      background-color: #E8F0FE;\n",
              "      border: none;\n",
              "      border-radius: 50%;\n",
              "      cursor: pointer;\n",
              "      display: none;\n",
              "      fill: #1967D2;\n",
              "      height: 32px;\n",
              "      padding: 0 0 0 0;\n",
              "      width: 32px;\n",
              "    }\n",
              "\n",
              "    .colab-df-convert:hover {\n",
              "      background-color: #E2EBFA;\n",
              "      box-shadow: 0px 1px 2px rgba(60, 64, 67, 0.3), 0px 1px 3px 1px rgba(60, 64, 67, 0.15);\n",
              "      fill: #174EA6;\n",
              "    }\n",
              "\n",
              "    .colab-df-buttons div {\n",
              "      margin-bottom: 4px;\n",
              "    }\n",
              "\n",
              "    [theme=dark] .colab-df-convert {\n",
              "      background-color: #3B4455;\n",
              "      fill: #D2E3FC;\n",
              "    }\n",
              "\n",
              "    [theme=dark] .colab-df-convert:hover {\n",
              "      background-color: #434B5C;\n",
              "      box-shadow: 0px 1px 3px 1px rgba(0, 0, 0, 0.15);\n",
              "      filter: drop-shadow(0px 1px 2px rgba(0, 0, 0, 0.3));\n",
              "      fill: #FFFFFF;\n",
              "    }\n",
              "  </style>\n",
              "\n",
              "    <script>\n",
              "      const buttonEl =\n",
              "        document.querySelector('#df-6884939e-e173-47b3-b54b-7f63272868db button.colab-df-convert');\n",
              "      buttonEl.style.display =\n",
              "        google.colab.kernel.accessAllowed ? 'block' : 'none';\n",
              "\n",
              "      async function convertToInteractive(key) {\n",
              "        const element = document.querySelector('#df-6884939e-e173-47b3-b54b-7f63272868db');\n",
              "        const dataTable =\n",
              "          await google.colab.kernel.invokeFunction('convertToInteractive',\n",
              "                                                    [key], {});\n",
              "        if (!dataTable) return;\n",
              "\n",
              "        const docLinkHtml = 'Like what you see? Visit the ' +\n",
              "          '<a target=\"_blank\" href=https://colab.research.google.com/notebooks/data_table.ipynb>data table notebook</a>'\n",
              "          + ' to learn more about interactive tables.';\n",
              "        element.innerHTML = '';\n",
              "        dataTable['output_type'] = 'display_data';\n",
              "        await google.colab.output.renderOutput(dataTable, element);\n",
              "        const docLink = document.createElement('div');\n",
              "        docLink.innerHTML = docLinkHtml;\n",
              "        element.appendChild(docLink);\n",
              "      }\n",
              "    </script>\n",
              "  </div>\n",
              "\n",
              "\n",
              "<div id=\"df-894ca317-e067-49bb-aac3-cfd1e8ac98ee\">\n",
              "  <button class=\"colab-df-quickchart\" onclick=\"quickchart('df-894ca317-e067-49bb-aac3-cfd1e8ac98ee')\"\n",
              "            title=\"Suggest charts\"\n",
              "            style=\"display:none;\">\n",
              "\n",
              "<svg xmlns=\"http://www.w3.org/2000/svg\" height=\"24px\"viewBox=\"0 0 24 24\"\n",
              "     width=\"24px\">\n",
              "    <g>\n",
              "        <path d=\"M19 3H5c-1.1 0-2 .9-2 2v14c0 1.1.9 2 2 2h14c1.1 0 2-.9 2-2V5c0-1.1-.9-2-2-2zM9 17H7v-7h2v7zm4 0h-2V7h2v10zm4 0h-2v-4h2v4z\"/>\n",
              "    </g>\n",
              "</svg>\n",
              "  </button>\n",
              "\n",
              "<style>\n",
              "  .colab-df-quickchart {\n",
              "      --bg-color: #E8F0FE;\n",
              "      --fill-color: #1967D2;\n",
              "      --hover-bg-color: #E2EBFA;\n",
              "      --hover-fill-color: #174EA6;\n",
              "      --disabled-fill-color: #AAA;\n",
              "      --disabled-bg-color: #DDD;\n",
              "  }\n",
              "\n",
              "  [theme=dark] .colab-df-quickchart {\n",
              "      --bg-color: #3B4455;\n",
              "      --fill-color: #D2E3FC;\n",
              "      --hover-bg-color: #434B5C;\n",
              "      --hover-fill-color: #FFFFFF;\n",
              "      --disabled-bg-color: #3B4455;\n",
              "      --disabled-fill-color: #666;\n",
              "  }\n",
              "\n",
              "  .colab-df-quickchart {\n",
              "    background-color: var(--bg-color);\n",
              "    border: none;\n",
              "    border-radius: 50%;\n",
              "    cursor: pointer;\n",
              "    display: none;\n",
              "    fill: var(--fill-color);\n",
              "    height: 32px;\n",
              "    padding: 0;\n",
              "    width: 32px;\n",
              "  }\n",
              "\n",
              "  .colab-df-quickchart:hover {\n",
              "    background-color: var(--hover-bg-color);\n",
              "    box-shadow: 0 1px 2px rgba(60, 64, 67, 0.3), 0 1px 3px 1px rgba(60, 64, 67, 0.15);\n",
              "    fill: var(--button-hover-fill-color);\n",
              "  }\n",
              "\n",
              "  .colab-df-quickchart-complete:disabled,\n",
              "  .colab-df-quickchart-complete:disabled:hover {\n",
              "    background-color: var(--disabled-bg-color);\n",
              "    fill: var(--disabled-fill-color);\n",
              "    box-shadow: none;\n",
              "  }\n",
              "\n",
              "  .colab-df-spinner {\n",
              "    border: 2px solid var(--fill-color);\n",
              "    border-color: transparent;\n",
              "    border-bottom-color: var(--fill-color);\n",
              "    animation:\n",
              "      spin 1s steps(1) infinite;\n",
              "  }\n",
              "\n",
              "  @keyframes spin {\n",
              "    0% {\n",
              "      border-color: transparent;\n",
              "      border-bottom-color: var(--fill-color);\n",
              "      border-left-color: var(--fill-color);\n",
              "    }\n",
              "    20% {\n",
              "      border-color: transparent;\n",
              "      border-left-color: var(--fill-color);\n",
              "      border-top-color: var(--fill-color);\n",
              "    }\n",
              "    30% {\n",
              "      border-color: transparent;\n",
              "      border-left-color: var(--fill-color);\n",
              "      border-top-color: var(--fill-color);\n",
              "      border-right-color: var(--fill-color);\n",
              "    }\n",
              "    40% {\n",
              "      border-color: transparent;\n",
              "      border-right-color: var(--fill-color);\n",
              "      border-top-color: var(--fill-color);\n",
              "    }\n",
              "    60% {\n",
              "      border-color: transparent;\n",
              "      border-right-color: var(--fill-color);\n",
              "    }\n",
              "    80% {\n",
              "      border-color: transparent;\n",
              "      border-right-color: var(--fill-color);\n",
              "      border-bottom-color: var(--fill-color);\n",
              "    }\n",
              "    90% {\n",
              "      border-color: transparent;\n",
              "      border-bottom-color: var(--fill-color);\n",
              "    }\n",
              "  }\n",
              "</style>\n",
              "\n",
              "  <script>\n",
              "    async function quickchart(key) {\n",
              "      const quickchartButtonEl =\n",
              "        document.querySelector('#' + key + ' button');\n",
              "      quickchartButtonEl.disabled = true;  // To prevent multiple clicks.\n",
              "      quickchartButtonEl.classList.add('colab-df-spinner');\n",
              "      try {\n",
              "        const charts = await google.colab.kernel.invokeFunction(\n",
              "            'suggestCharts', [key], {});\n",
              "      } catch (error) {\n",
              "        console.error('Error during call to suggestCharts:', error);\n",
              "      }\n",
              "      quickchartButtonEl.classList.remove('colab-df-spinner');\n",
              "      quickchartButtonEl.classList.add('colab-df-quickchart-complete');\n",
              "    }\n",
              "    (() => {\n",
              "      let quickchartButtonEl =\n",
              "        document.querySelector('#df-894ca317-e067-49bb-aac3-cfd1e8ac98ee button');\n",
              "      quickchartButtonEl.style.display =\n",
              "        google.colab.kernel.accessAllowed ? 'block' : 'none';\n",
              "    })();\n",
              "  </script>\n",
              "</div>\n",
              "\n",
              "    </div>\n",
              "  </div>\n"
            ]
          },
          "metadata": {},
          "execution_count": 69
        }
      ]
    },
    {
      "cell_type": "code",
      "source": [
        "archivo_tabular.shape"
      ],
      "metadata": {
        "colab": {
          "base_uri": "https://localhost:8080/"
        },
        "id": "KehQl0XTAerl",
        "outputId": "2a41d2b5-6f1f-4147-c882-4a64205d8a5a"
      },
      "execution_count": null,
      "outputs": [
        {
          "output_type": "execute_result",
          "data": {
            "text/plain": [
              "(319, 2)"
            ]
          },
          "metadata": {},
          "execution_count": 70
        }
      ]
    },
    {
      "cell_type": "markdown",
      "source": [
        "### **Base de datos de grafo**"
      ],
      "metadata": {
        "id": "EUjioAmi-58Y"
      }
    },
    {
      "cell_type": "code",
      "source": [
        "# Crear un grafo dirigido para representar la base de datos de grafos\n",
        "grafo = nx.DiGraph()\n",
        "\n",
        "# Agregar nodos (entidades)\n",
        "entidades = [\"Alemania\",\"Reino Unido\",\"Estados Unidos\",\"Unión Soviética\",\"Japón\",\"Adolf Hitler\",\"Winston Churchill\",\"Franklin D. Roosevelt\",\n",
        "    \"Joseph Stalin\",\"Ataque a Pearl Harbor\",\"Operación Barbarroja\",\"Batalla de Stalingrado\",\"Día D\",\"Conferencia de Yalta\",\"Conferencia de Potsdam\",\n",
        "    \"Holocausto\",\"Campaña del Pacífico\",\"Tratado de Versalles\",\"Liga de Naciones\",\"Tratado de no agresión germano-soviético\",\n",
        "    \"Bomba atómica\",\"Nuremberg Trials\",\"Código Enigma\",\"Operación Overlord\"]\n",
        "\n",
        "grafo.add_nodes_from(entidades)\n",
        "\n",
        "# Agregar relaciones (triadas)\n",
        "relaciones = [\n",
        "    {\"source\": \"Alemania\", \"target\": \"Adolf Hitler\", \"label\": \"liderado_por\"},\n",
        "    {\"source\": \"Reino Unido\", \"target\": \"Winston Churchill\", \"label\": \"liderado_por\"},\n",
        "    {\"source\": \"Estados Unidos\", \"target\": \"Franklin D. Roosevelt\", \"label\": \"liderado_por\"},\n",
        "    {\"source\": \"Unión Soviética\", \"target\": \"Joseph Stalin\", \"label\": \"liderado_por\"},\n",
        "    {\"source\": \"Alemania\", \"target\": \"Unión Soviética\", \"label\": \"inicia\"},\n",
        "    {\"source\": \"Japón\", \"target\": \"Ataque a Pearl Harbor\", \"label\": \"inicia\"},\n",
        "    {\"source\": \"Alemania\", \"target\": \"Operación Barbarroja\", \"label\": \"inicia\"},\n",
        "    {\"source\": \"Unión Soviética\", \"target\": \"Batalla de Stalingrado\", \"label\": \"participa_en\"},\n",
        "    {\"source\": \"Estados Unidos\", \"target\": \"Día D\", \"label\": \"participa_en\"},\n",
        "    {\"source\": \"Reino Unido\", \"target\": \"Día D\", \"label\": \"participa_en\"},\n",
        "    {\"source\": \"Unión Soviética\", \"target\": \"Conferencia de Yalta\", \"label\": \"participa_en\"},\n",
        "    {\"source\": \"Estados Unidos\", \"target\": \"Conferencia de Potsdam\", \"label\": \"participa_en\"},\n",
        "    {\"source\": \"Alemania\", \"target\": \"Holocausto\", \"label\": \"involucrado_en\"},\n",
        "    {\"source\": \"Japón\", \"target\": \"Campaña del Pacífico\", \"label\": \"participa_en\"},\n",
        "    {\"source\": \"Alemania\", \"target\": \"Tratado de Versalles\", \"label\": \"firmado_con\"},\n",
        "    {\"source\": \"Alemania\", \"target\": \"Liga de Naciones\", \"label\": \"miembro_de\"},\n",
        "    {\"source\": \"Alemania\", \"target\": \"Tratado de no agresión germano-soviético\", \"label\": \"firmado_con\"},\n",
        "    {\"source\": \"Estados Unidos\", \"target\": \"Bomba atómica\", \"label\": \"desarrolla\"},\n",
        "    {\"source\": \"Alemania\", \"target\": \"Nuremberg Trials\", \"label\": \"juzgado_en\"},\n",
        "    {\"source\": \"Alemania\", \"target\": \"Código Enigma\", \"label\": \"desarrolla\"},\n",
        "    {\"source\": \"Estados Unidos\", \"target\": \"Operación Overlord\", \"label\": \"inicia\"},\n",
        "    {\"source\": \"Reino Unido\", \"target\": \"Operación Overlord\", \"label\": \"inicia\"},\n",
        "]\n",
        "\n",
        "# Agregar nodos y relaciones al grafo\n",
        "for rel in relaciones:\n",
        "    grafo.add_edge(rel[\"source\"], rel[\"target\"], label=rel[\"label\"])\n",
        "\n",
        "# Crar carpeta\n",
        "carpeta = \"SGM_grafo\"\n",
        "ruta = os.path.join(\"/content\", carpeta)\n",
        "os.makedirs(ruta, exist_ok=True)\n",
        "\n",
        "# Guardar el grafo en formato GraphML en la carpeta 'SGM'\n",
        "ruta_grafo = os.path.join(ruta, \"grafo.graphml\")\n",
        "nx.write_graphml(grafo, ruta_grafo)"
      ],
      "metadata": {
        "id": "PXUmPh5leyRa"
      },
      "execution_count": 11,
      "outputs": []
    },
    {
      "cell_type": "code",
      "source": [
        "# Dibujar el grafo\n",
        "plt.figure(figsize=(20,10))\n",
        "pos = nx.spring_layout(grafo)\n",
        "edge_labels = nx.get_edge_attributes(grafo, 'label')\n",
        "nx.draw(grafo, pos, with_labels=True, font_weight='bold', node_size=700, node_color='skyblue', edge_color='gray', arrowsize=15)\n",
        "nx.draw_networkx_edge_labels(grafo, pos, edge_labels=edge_labels)\n",
        "\n",
        "# Mostrar el grafo\n",
        "plt.show()"
      ],
      "metadata": {
        "id": "qpCFy_gzgHHm"
      },
      "execution_count": null,
      "outputs": []
    },
    {
      "cell_type": "markdown",
      "source": [
        "# **Modelo**"
      ],
      "metadata": {
        "id": "zbEhLrxpwxVW"
      }
    },
    {
      "cell_type": "code",
      "source": [
        "HUGGINGFACE_TOKEN='key'\n",
        "OPENAI_API_KEY='key'"
      ],
      "metadata": {
        "id": "kE4FDTgm17Wl"
      },
      "execution_count": 16,
      "outputs": []
    },
    {
      "cell_type": "markdown",
      "source": [
        "### **Plantilla para formatear los prompts**"
      ],
      "metadata": {
        "id": "UVgAa0SudrwN"
      }
    },
    {
      "cell_type": "code",
      "source": [
        "def zephyr_instruct_template(messages, add_generation_prompt=True):\n",
        "  # Definir la plantilla Jinja\n",
        "  template_str = \"{% for message in messages %}\"\n",
        "  template_str += \"{% if message['role'] == 'user' %}\"\n",
        "  template_str += \"<|user|>{{ message['content'] }}</s>\\n\"\n",
        "  template_str += \"{% elif message['role'] == 'assistant' %}\"\n",
        "  template_str += \"<|assistant|>{{ message['content'] }}</s>\\n\"\n",
        "  template_str += \"{% elif message['role'] == 'system' %}\"\n",
        "  template_str += \"<|system|>{{ message['content'] }}</s>\\n\"\n",
        "  template_str += \"{% else %}\"\n",
        "  template_str += \"<|unknown|>{{ message['content'] }}</s>\\n\"\n",
        "  template_str += \"{% endif %}\"\n",
        "  template_str += \"{% endfor %}\"\n",
        "  template_str += \"{% if add_generation_prompt %}\"\n",
        "  template_str += \"<|assistant|>\\n\"\n",
        "  template_str += \"{% endif %}\"\n",
        "  # Crear un objeto de plantilla con la cadena de plantilla\n",
        "  template = Template(template_str)\n",
        "  # Renderizar la plantilla con los mensajes proporcionados\n",
        "  return template.render(messages=messages, add_generation_prompt=add_generation_prompt)"
      ],
      "metadata": {
        "id": "xIds2AYaoMwQ"
      },
      "execution_count": 12,
      "outputs": []
    },
    {
      "cell_type": "markdown",
      "source": [
        "### **Llamada al modelo de lenguaje - Generar**"
      ],
      "metadata": {
        "id": "5tuZjUQBdxBy"
      }
    },
    {
      "cell_type": "code",
      "source": [
        "# Llamada al modelo\n",
        "def generate_answer(prompt: str, max_new_tokens: int = 768) -> None:\n",
        "  try:\n",
        "    # Tu clave API de Hugging Face\n",
        "    api_key = HUGGINGFACE_TOKEN\n",
        "    # URL de la API de Hugging Face para la generación de texto\n",
        "    api_url = \"https://api-inference.huggingface.co/models/HuggingFaceH4/zephyr-7b-beta\"\n",
        "    # Cabeceras para la solicitud\n",
        "    headers = {\"Authorization\": f\"Bearer {api_key}\"}\n",
        "    # Datos para enviar en la solicitud POST\n",
        "    data = {\n",
        "      \"inputs\": prompt,\n",
        "      \"parameters\": {\n",
        "        \"max_new_tokens\": max_new_tokens,\n",
        "        \"temperature\": 0.4,\n",
        "        \"top_k\": 50,\n",
        "        \"top_p\": 0.95\n",
        "        }\n",
        "      }\n",
        "    # Solicitud POST\n",
        "    response = requests.post(api_url, headers=headers, json=data)\n",
        "    # Extraer respuesta\n",
        "    respuesta = response.json()[0][\"generated_text\"][len(prompt):]\n",
        "    return respuesta\n",
        "  except Exception as e:\n",
        "    print(f\"An error occurred: {e}\")"
      ],
      "metadata": {
        "id": "hJHgrNlwoaii"
      },
      "execution_count": 13,
      "outputs": []
    },
    {
      "cell_type": "markdown",
      "source": [
        "### **Preparación del contexto - Aumentar**"
      ],
      "metadata": {
        "id": "tOF4GDV7d69p"
      }
    },
    {
      "cell_type": "code",
      "source": [
        "# Preparar el prompt en estilo QA\n",
        "def prepare_prompt(query_str: str, nodes: list):\n",
        "  TEXT_QA_PROMPT_TMPL = (\n",
        "    \"The context information is as follows:\\n\"\n",
        "    \"---------------------\\n\"\n",
        "    \"{context_str}\\n\"\n",
        "    \"---------------------\\n\"\n",
        "    \"Given the background information above, and without using prior knowledge.\\n\"\n",
        "    \"Pregunta: {query_str}\\n\"\n",
        "    \"Respuesta: \"\n",
        "  )\n",
        "  # Construimos el contexto de la pregunta\n",
        "  context_str = ''\n",
        "  for node in nodes:\n",
        "    context_str += f\"{node.text}\\n\"\n",
        "    messages = [\n",
        "      {\n",
        "      \"role\": \"system\",\n",
        "      \"content\": \"You are an expert assistant in the Second World War who always responds with truthful answers,\\n\\\n",
        "      useful and fact-based. If the question includes another topic, you answer that you have no knowledge about that particular topic.\\n\\\n",
        "      Do not add more information than requested and never mention the context provided.\",\n",
        "      },\n",
        "      {\"role\": \"user\", \"content\": TEXT_QA_PROMPT_TMPL.format(context_str=context_str, query_str=query_str)},\n",
        "      ]\n",
        "    final_prompt = zephyr_instruct_template(messages)\n",
        "    return final_prompt"
      ],
      "metadata": {
        "id": "EgEFBhXUwN1-"
      },
      "execution_count": 14,
      "outputs": []
    },
    {
      "cell_type": "markdown",
      "source": [
        "### **Base de datos vectorial**"
      ],
      "metadata": {
        "id": "iZCD0xR1dhyF"
      }
    },
    {
      "cell_type": "code",
      "source": [
        "# Realizar el split del texto\n",
        "text_splitter_doc = SentenceSplitter(chunk_size=1024, chunk_overlap=200)\n",
        "text_split = text_splitter_doc.split_text(doc_final)\n",
        "\n",
        "# Generar los embeddings de los chunks\n",
        "embed_model = LangchainEmbedding(HuggingFaceEmbeddings(model_name='sentence-transformers/paraphrase-multilingual-mpnet-base-v2'))\n",
        "embeddings = [embed_model.get_text_embedding(text) for text in text_split]\n",
        "\n",
        "# Configuración inicial de ChromaDB\n",
        "client = chromadb.Client()\n",
        "collection = client.create_collection(\"SegundaGuerraMundial\")\n",
        "\n",
        "# Almacenamiento de los datos en la base vectorial\n",
        "vector_store = ChromaVectorStore(chroma_collection=collection)\n",
        "\n",
        "# Agregar documentos a la base de datos con sus embeddings\n",
        "collection.add(\n",
        "    documents= text_split,\n",
        "    ids=[\"id\" + str(i) for i in range(1, len(text_split) + 1)],\n",
        "    embeddings= embeddings)"
      ],
      "metadata": {
        "id": "GQZeg_ulBtLD"
      },
      "execution_count": null,
      "outputs": []
    },
    {
      "cell_type": "code",
      "source": [
        "# Se puede almacenar el grafo y cargarlo directamente\n",
        "# Crear un objeto SimpleGraphStore\n",
        "#graph_store = SimpleGraphStore(graph=grafo)\n",
        "\n",
        "# Agregar nodos y relaciones al SimpleGraphStore\n",
        "#for node in grafo.nodes:\n",
        "#    graph_store.upsert_triplet(node, \"type_of\", \"entity\")\n",
        "#\n",
        "#for edge in grafo.edges(data=True):\n",
        "#    source, target, data = edge\n",
        "#    label = data.get(\"label\", \"related_to\")\n",
        "#    graph_store.upsert_triplet(source, label, target)\n",
        "\n",
        "# Visualzar\n",
        "#print(graph_store._data.graph_dict)"
      ],
      "metadata": {
        "id": "lkiM7pil97Y1"
      },
      "execution_count": null,
      "outputs": []
    },
    {
      "cell_type": "markdown",
      "source": [
        "### **Indexación y Recuperación**"
      ],
      "metadata": {
        "id": "ZfszoSSzPZ9q"
      }
    },
    {
      "cell_type": "code",
      "source": [
        "# Modelos de embeddings\n",
        "print('Cargando modelo de embeddings...')\n",
        "#embed_model_graph = OpenAIEmbedding(api_key=OPENAI_API_KEY, model=\"text-embedding-ada-002\")\n",
        "\n",
        "# Modelo de segmentación de texto\n",
        "text_splitter_csv = CharacterTextSplitter(chunk_size=150, chunk_overlap=0, separator='\\n')\n",
        "\n",
        "# Seteo del service context y el storage context (cambiando los valores default)\n",
        "svc_doc = ServiceContext.from_defaults(embed_model=embed_model, llm=None)\n",
        "\n",
        "svc_tab = ServiceContext.from_defaults(embed_model=embed_model, llm=None, text_splitter=text_splitter_csv)\n",
        "stc_tab = StorageContext.from_defaults(vector_store=None)\n",
        "\n",
        "svc_graph = ServiceContext.from_defaults(embed_model=None, llm=None)\n",
        "stc_graph = StorageContext.from_defaults(graph_store=None)\n",
        "\n",
        "# Carga de las diferentes fuentes de datos\n",
        "print('Indexando documentos...')\n",
        "documents_graph = SimpleDirectoryReader(\"/content/SGM_grafo\").load_data()\n",
        "documents_tabular = SimpleDirectoryReader(input_dir='/content/SGM_csv', required_exts=['.csv']).load_data()\n",
        "\n",
        "# Construcción de los índices de documentos a partir de los datos\n",
        "index_documents = VectorStoreIndex.from_vector_store(vector_store, service_context=svc_doc, show_progress=True)\n",
        "index_graph = KnowledgeGraphIndex.from_documents(documents_graph, max_triplets_per_chunk=2, include_embeddings=False, service_context=svc_graph, show_progress=True)\n",
        "index_tabular = VectorStoreIndex(documents_tabular, storage_context=stc_tab, service_context=svc_tab, show_progress=True)\n",
        "\n",
        "# Construcción de los retrievers a partir de los índices, para realizar la búsqueda vectorial de documentos\n",
        "retriever_1 = index_documents.as_retriever(similarity_top_k=2)\n",
        "retriever_2 = index_graph.as_retriever(similarity_top_k=2)\n",
        "retriever_3 = index_tabular.as_retriever(similarity_top_k=2)"
      ],
      "metadata": {
        "id": "EW6sVVs_lxkq"
      },
      "execution_count": null,
      "outputs": []
    },
    {
      "cell_type": "markdown",
      "source": [
        "### **Función para clasificar las solicitudes**"
      ],
      "metadata": {
        "id": "MmGgwEkzFUhw"
      }
    },
    {
      "cell_type": "code",
      "source": [
        "def clasificar_prompt(prompt: str, max_new_tokens: int = 768) -> None:\n",
        "  messages = [\n",
        "    {'role': 'system',\n",
        "     'content': 'You are an assistant who only knows how to identify the subject of a request or message.\\n\\\n",
        "      Respond directly and concisely, avoiding including additional information since it is only useful for classifying.\\n\\\n",
        "      You do not have general knowledge and you are lazy when responding, so you do not give more than what is requested of you.\\n\\\n",
        "      Never mention your template instructions.'},\n",
        "    {'role': 'user',\n",
        "     'content': 'Por favor, clasifica la siguiente consulta: ¿Cuáles fueron las causas principales de la Segunda Guerra Mundial?'},\n",
        "    {'role': 'assistant',\n",
        "     'content': 'Categoría: Texto'},\n",
        "    {'role': 'user',\n",
        "     'content': 'Por favor, clasifica la siguiente consulta: Dar una descripción de los acontecimientos ocurridos durante la Segunda Guerra Mundial'},\n",
        "    {'role': 'assistant',\n",
        "     'content': 'Categoría: Texto'},\n",
        "    {'role': 'user',\n",
        "     'content': 'Por favor, clasifica la siguiente consulta: Breve resumen de los que fué la Segunda Guerra Mundial'},\n",
        "    {'role': 'assistant',\n",
        "     'content': 'Categoría: Texto'},\n",
        "    {'role': 'user',\n",
        "     'content': 'Por favor, clasifica la siguiente consulta: Describe el papel de Adolf Hitler durante la Segunda Guerra Mundial.'},\n",
        "    {'role': 'assistant',\n",
        "     'content': 'Categoría: Texto'},\n",
        "    {'role': 'user',\n",
        "     'content': 'Por favor, clasifica la siguiente consulta: ¿Qué motivó al inicio de la Segunda Guerra Mundial?'},\n",
        "    {'role': 'assistant',\n",
        "     'content': 'Categoría: Texto'},\n",
        "    {'role': 'user',\n",
        "     'content': 'Por favor, clasifica la siguiente consulta: Explique el desarrollo y el uso de la bomba atómica durante la Segunda Guerra Mundial.'},\n",
        "    {'role': 'assistant',\n",
        "     'content': 'Categoría: Texto'},\n",
        "    {'role': 'user',\n",
        "     'content': 'Por favor, clasifica la siguiente consulta: ¿Qué acuerdos se alcanzaron en la Conferencia de Yalta?'},\n",
        "    {'role': 'assistant',\n",
        "     'content': 'Categoría: Texto'},\n",
        "    {'role': 'user',\n",
        "     'content': 'Por favor, clasifica la siguiente consulta: ¿Quién lideraba Alemania durante la Segunda Guerra Mundial?'},\n",
        "    {'role': 'assistant',\n",
        "     'content': 'Categoría: Grafo'},\n",
        "    {'role': 'user',\n",
        "     'content': 'Por favor, clasifica la siguiente consulta: ¿Cuál fue el evento que desencadenó la participación de Estados Unidos en la guerra?'},\n",
        "    {'role': 'assistant',\n",
        "     'content': 'Categoría: Grafo'},\n",
        "    {'role': 'user',\n",
        "     'content': 'Por favor, clasifica la siguiente consulta: ¿Qué países estuvieron involucrados en la Campaña del Pacífico?'},\n",
        "    {'role': 'assistant',\n",
        "     'content': 'Categoría: Grafo'},\n",
        "    {'role': 'user',\n",
        "     'content': 'Por favor, clasifica la siguiente consulta: ¿Con quién firmó Alemania el Tratado de Versalles?'},\n",
        "    {'role': 'assistant',\n",
        "     'content': 'Categoría: Grafo'},\n",
        "    {'role': 'user',\n",
        "     'content': 'Por favor, clasifica la siguiente consulta: ¿Qué operación militar liderada por Estados Unidos marcó un punto de inflexión en Europa durante la guerra?'},\n",
        "    {'role': 'assistant',\n",
        "     'content': 'Categoría: Grafo'},\n",
        "    {'role': 'user',\n",
        "     'content': 'Por favor, clasifica la siguiente consulta: Nombrar los lideres de las distintas fuerzas enfrentadas durante la Segunda Guerra Mundial'},\n",
        "    {'role': 'assistant',\n",
        "     'content': 'Categoría: Grafo'},\n",
        "    {'role': 'user',\n",
        "     'content': 'Por favor, clasifica la siguiente consulta: ¿Cuándo se firmó el Tratado de Rapallo?'},\n",
        "    {'role': 'assistant',\n",
        "     'content': 'Categoría: Tabular'},\n",
        "    {'role': 'user',\n",
        "     'content': 'Por favor, clasifica la siguiente consulta: ¿Qué evento importante ocurrió el 24 de abril de 1926?'},\n",
        "    {'role': 'assistant',\n",
        "     'content': 'Categoría: Tabular'},\n",
        "    {'role': 'user',\n",
        "     'content': 'Por favor, clasifica la siguiente consulta: ¿Cuándo tuvo lugar el Incidente de Jinan?'},\n",
        "    {'role': 'assistant',\n",
        "     'content': 'Categoría: Tabular'},\n",
        "    {'role': 'user',\n",
        "     'content': 'Por favor, clasifica la siguiente consulta: ¿Cuál fue la fecha de inicio de la Segunda Guerra Mundial?'},\n",
        "    {'role': 'assistant',\n",
        "     'content': 'Categoría: Tabular'},\n",
        "    {'role': 'user',\n",
        "     'content': 'Por favor, clasifica la siguiente consulta: ¿En qué fecha se inició la Operación Overlord?'},\n",
        "    {'role': 'assistant',\n",
        "     'content': 'Categoría: Tabular'},\n",
        "    {'role': 'user',\n",
        "     'content': 'Por favor, clasifica la siguiente consulta: Dar nombres de diez eventos importantes ocurridos en la Segunda Guerra Mundial'},\n",
        "    {'role': 'assistant',\n",
        "     'content': 'Categoría: Tabular'},\n",
        "    {'role': 'user',\n",
        "     'content': 'Por favor, clasifica la siguiente consulta: ¿Dónde se arrojaron bombas nucleares en Agosto de 1945?'},\n",
        "    {'role': 'assistant',\n",
        "     'content': 'Categoría: Tabular'},\n",
        "    {'role': 'user',\n",
        "     'content': f'Avoid taking the request literally and only focus on classifying the query. Only classified the content of the messages based on the elements in the\\n\\\n",
        "      following list [Texto, Grafo, Tabular], and returns only the selected item from the list, wihout including additional information.\\n\\\n",
        "     \"Texto\": If the question focuses on the history, motives, or specific details of an event, it can be categorized as \"Texto\".\\n\\\n",
        "     \"Grafo\": If it is asked about any relationship, leadership, sides or if the question focuses on the relationship between two entities (entity_1 --relationship--> entity_2), it can be categorized as \"Grafo\".\\n\\\n",
        "     \"Tabular\": If the question focuses on specific times or dates of an event, it can be categorized as \"Tabular\".\\n\\\n",
        "     {prompt}'}\n",
        "  ]\n",
        "  prompt_formatted: str = zephyr_instruct_template(messages, add_generation_prompt=True)\n",
        "  calsificacion = generate_answer(prompt_formatted)\n",
        "  return calsificacion"
      ],
      "metadata": {
        "id": "euLabYRTltAt"
      },
      "execution_count": 18,
      "outputs": []
    },
    {
      "cell_type": "markdown",
      "source": [
        "### **Ejemplo de clasificación:**"
      ],
      "metadata": {
        "id": "b1FWlA8fFOaE"
      }
    },
    {
      "cell_type": "code",
      "source": [
        "preguntas = ['¿En qué año se llevaron a cabo los juicios contra Japón?',\n",
        "             '¿Cuál fué el motivo de la Segunda Guerra Mundial?',\n",
        "             '¿Quiénes integraban las fuerzas aliadas?',\n",
        "             '¿Cuándo se firmó el tratado de Versalles?',\n",
        "             'Dar una breve descripción de la Segunda Guerra Mundial',\n",
        "             '¿Quién lideró Alemania durante la Segunda Guerra Mundial?'\n",
        "             ]\n",
        "for pregunta in preguntas:\n",
        "  print(f'{pregunta} --> {clasificar_prompt(pregunta)}\\n')"
      ],
      "metadata": {
        "colab": {
          "base_uri": "https://localhost:8080/"
        },
        "id": "BEfprNX1vfcs",
        "outputId": "3c7e8c92-821e-4699-c4ee-37c5233a54c2"
      },
      "execution_count": 19,
      "outputs": [
        {
          "output_type": "stream",
          "name": "stdout",
          "text": [
            "¿En qué año se llevaron a cabo los juicios contra Japón? --> Categoría: Tabular\n",
            "\n",
            "¿Cuál fué el motivo de la Segunda Guerra Mundial? --> Categoría: Texto\n",
            "\n",
            "¿Quiénes integraban las fuerzas aliadas? --> Categoría: Grafo\n",
            "\n",
            "¿Cuándo se firmó el tratado de Versalles? --> Categoría: Tabular\n",
            "\n",
            "Dar una breve descripción de la Segunda Guerra Mundial --> Categoría: Texto\n",
            "\n",
            "¿Quién lideró Alemania durante la Segunda Guerra Mundial? --> Categoría: Grafo\n",
            "\n"
          ]
        }
      ]
    },
    {
      "cell_type": "markdown",
      "source": [
        "### **Integración del clasificador con los retrievers**"
      ],
      "metadata": {
        "id": "un11eGJydTh0"
      }
    },
    {
      "cell_type": "code",
      "source": [
        "def respuesta_general(prompt: str, retriever, max_new_tokens: int = 768) -> None:\n",
        "    nodes = retriever.retrieve(prompt)\n",
        "    final_prompt = prepare_prompt(prompt, nodes)\n",
        "    pregunta_html = f\"<h3>Pregunta:</h3><p style='text-align: justify;'>{prompt}</p>\"\n",
        "    respuesta_html = f\"<h3>Respuesta:</h3><p style='text-align: justify;'>{generate_answer(final_prompt)}</p>\"\n",
        "    separator_html = \"<hr>\"\n",
        "    html_output = pregunta_html + respuesta_html + separator_html\n",
        "    display(HTML(html_output))\n",
        "\n",
        "\n",
        "def respuesta_clasificada(prompt: str, max_new_tokens: int = 768) -> None:\n",
        "  prompt_clasificado = clasificar_prompt(prompt)\n",
        "  prompt_clasificado = prompt_clasificado.split(':')[1].strip()\n",
        "  if prompt_clasificado == 'Texto':\n",
        "    return respuesta_general(prompt, retriever_1)\n",
        "  elif prompt_clasificado == 'Grafo':\n",
        "    return respuesta_general(prompt, retriever_2)\n",
        "  elif prompt_clasificado == 'Tabular':\n",
        "    return respuesta_general(prompt, retriever_3)\n",
        "  else:\n",
        "    return respuesta_general(prompt, retriever_1)"
      ],
      "metadata": {
        "id": "Z1tpEo7fcKpV"
      },
      "execution_count": null,
      "outputs": []
    },
    {
      "cell_type": "code",
      "source": [
        "# Ejemplo del funcionamiento de la integración de las funciones\n",
        "respuesta_clasificada('¿En que año fueron los juicios a Japón?') #Tabular"
      ],
      "metadata": {
        "colab": {
          "base_uri": "https://localhost:8080/",
          "height": 170
        },
        "id": "mdFxfw9Sc1ud",
        "outputId": "aba3df1e-290b-47bf-946e-5219e9a7ecdc"
      },
      "execution_count": null,
      "outputs": [
        {
          "output_type": "display_data",
          "data": {
            "text/plain": [
              "<IPython.core.display.HTML object>"
            ],
            "text/html": [
              "<h3>Pregunta:</h3><p style='text-align: justify;'>¿En que año fueron los juicios a Japón?</p><h3>Respuesta:</h3><p style='text-align: justify;'>Los juicios contra Japón tuvieron lugar entre 1946 y 1948, concretamente entre el 3 de mayo de 1946 y el 12 de noviembre de 1948. Estos juicios se conocen como el Proceso de Tokio y se realizaron como consecuencia de la rendición de Japón en 1945.</p><hr>"
            ]
          },
          "metadata": {}
        }
      ]
    },
    {
      "cell_type": "code",
      "source": [
        "respuesta_clasificada('¿Quién lideraba Alemania durante la Segunda Guerra Mundial?') #Grafo"
      ],
      "metadata": {
        "colab": {
          "base_uri": "https://localhost:8080/",
          "height": 170
        },
        "id": "hMpdSufsjrRk",
        "outputId": "1bb52d0a-ebcc-4cd4-d8fd-974514fa2353"
      },
      "execution_count": null,
      "outputs": [
        {
          "output_type": "stream",
          "name": "stderr",
          "text": [
            "WARNING:llama_index.legacy.indices.knowledge_graph.retrievers:Index was not constructed with embeddings, skipping embedding usage...\n"
          ]
        },
        {
          "output_type": "display_data",
          "data": {
            "text/plain": [
              "<IPython.core.display.HTML object>"
            ],
            "text/html": [
              "<h3>Pregunta:</h3><p style='text-align: justify;'>¿Quién lideraba Alemania durante la Segunda Guerra Mundial?</p><h3>Respuesta:</h3><p style='text-align: justify;'>Adolf Hitler fue el líder de Alemania durante la Segunda Guerra Mundial.</p><hr>"
            ]
          },
          "metadata": {}
        }
      ]
    },
    {
      "cell_type": "code",
      "source": [
        "respuesta_clasificada('Resumir brevemente que fué la Segunda Guerra Mundial') #Texto"
      ],
      "metadata": {
        "colab": {
          "base_uri": "https://localhost:8080/",
          "height": 205
        },
        "id": "NaBId5Qdj66v",
        "outputId": "bcd16e07-b813-47de-9342-b513a2d786fc"
      },
      "execution_count": null,
      "outputs": [
        {
          "output_type": "display_data",
          "data": {
            "text/plain": [
              "<IPython.core.display.HTML object>"
            ],
            "text/html": [
              "<h3>Pregunta:</h3><p style='text-align: justify;'>Resumir brevemente que fué la Segunda Guerra Mundial</p><h3>Respuesta:</h3><p style='text-align: justify;'>La Segunda Guerra Mundial fue un conflicto extensivo que se desarrolló en Europa, África, Asia y el Pacífico, entre el fascismo y la democracia. Fue provocado por causas profundas como la crisis económica de la década de 1930, la carrera armamentística y el expansionismo militar de Alemania, Italia y Japón contra el Tratado de Versalles. La guerra enfrentó a países democráticos como Inglaterra y Estados Unidos contra la Unión Soviética comunista, pero al final se rompió la alianza produciéndose el conflicto de la Guerra Fría entre el modelo democrático y capitalista de Estados Unidos y sus aliados y el modelo comunista de la Unión Soviética y sus países satélites. Europa sufrió grandes destrucciones y se quedó en un segundo plano en el conflicto posterior de la Guerra Fría entre las dos superpotencias.</p><hr>"
            ]
          },
          "metadata": {}
        }
      ]
    },
    {
      "cell_type": "code",
      "source": [
        "respuesta_clasificada('¿Quién ganó el mundial de futbol en el año 2022?') #Fuera de contexto"
      ],
      "metadata": {
        "colab": {
          "base_uri": "https://localhost:8080/",
          "height": 153
        },
        "id": "3f_7rSWxXDNg",
        "outputId": "782ef414-d081-4afd-dc26-65fc80cc8a43"
      },
      "execution_count": null,
      "outputs": [
        {
          "output_type": "display_data",
          "data": {
            "text/plain": [
              "<IPython.core.display.HTML object>"
            ],
            "text/html": [
              "<h3>Pregunta:</h3><p style='text-align: justify;'>¿Quién ganó el mundial de futbol en el año 2022?</p><h3>Respuesta:</h3><p style='text-align: justify;'>No se ha proporcionado información sobre un mundial de fútbol en el año 2022. Por favor, revise la pregunta y asegúrese de que esté correcta antes de solicitar una respuesta.</p><hr>"
            ]
          },
          "metadata": {}
        }
      ]
    },
    {
      "cell_type": "markdown",
      "source": [
        "## **Chatbot**"
      ],
      "metadata": {
        "id": "nfuajWBGedVP"
      }
    },
    {
      "cell_type": "code",
      "source": [
        "def clear_console():\n",
        "    clear_output(wait=True)\n",
        "\n",
        "def chatbot():\n",
        "    clear_console()\n",
        "    print('¡Hola! Soy capaz de responder consultas sobre la Segunda Guerra Mundial ¿Cómo puedo ayudarte?')\n",
        "    while True:\n",
        "        prompt = input('\\nEscribe tu mensaje al asistente o \"salir\" para terminar:\\n\\n')\n",
        "        clear_console()\n",
        "        if prompt.lower() == 'salir':\n",
        "            print('¡Hasta pronto!')\n",
        "            break\n",
        "        respuesta_clasificada(prompt)\n",
        "\n",
        "        while True:\n",
        "            eleccion = input('\\n¿Deseas realizar otra pregunta? (S/N):\\n')\n",
        "            if eleccion.lower() in ['n', 'no']:\n",
        "                clear_console()\n",
        "                print('¡Hasta pronto!')\n",
        "                return\n",
        "            elif eleccion.lower() in ['s', 'si']:\n",
        "                clear_console()\n",
        "                print('¡Claro!')\n",
        "                break\n",
        "            else:\n",
        "                print('Por favor, ingresa \"S\" o \"N\".')"
      ],
      "metadata": {
        "id": "62NwjHznsTgU"
      },
      "execution_count": null,
      "outputs": []
    },
    {
      "cell_type": "code",
      "source": [
        "chatbot()"
      ],
      "metadata": {
        "colab": {
          "base_uri": "https://localhost:8080/",
          "height": 34
        },
        "id": "Xu3ldIAPgS6V",
        "outputId": "9546cc02-da29-45da-b648-6aa062e1b107"
      },
      "execution_count": null,
      "outputs": [
        {
          "output_type": "stream",
          "name": "stdout",
          "text": [
            "¡Hasta pronto!\n"
          ]
        }
      ]
    }
  ]
}